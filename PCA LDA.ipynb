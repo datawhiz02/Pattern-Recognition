{
 "cells": [
  {
   "cell_type": "markdown",
   "metadata": {
    "id": "VX77nALXKWAa"
   },
   "source": [
    "### INSTRUCTIONS - Assignment 3\n",
    "\n",
    "- Submit only the ipynb file with file format main_{UBID}.ipynb (e.g. main_50370999.ipynb), Submission other than this format will get zero.\n",
    "- Don't submit the zip folder.\n",
    "- We will run all the cells from start to finish, if we get any error or cell executing for more than 20 sec. will get zero for that problem. So plesae make sure to double check your ipynb file from start to finish before submitting.\n",
    "- Refrain from using the Sklearn library unless explicitly mentioned.\n",
    "- Do not use numpy's cov, corrcoef, svd built-in functions.\n",
    "- Don't import additional libraries in the file."
   ]
  },
  {
   "cell_type": "markdown",
   "metadata": {},
   "source": [
    "# Dataset information\n",
    "\n",
    "There are a total of 4 datasets for the assignment.\n",
    "\n",
    "For Assignment3, please choose the dataset according to the following rule.\n",
    "\n",
    "Student UBID + 1 modulo 4 = (number between 0 and 3). For example: (50370006 + 1) % 4 = 3\n",
    "\n",
    "### 0 - UCI dermatology dataset (Target_variable: classcode)\n",
    "\n",
    "Link: https://archive.ics.uci.edu/ml/datasets/Dermatology\n",
    "\n",
    "Features to use -> {erythema, scaling, definite borders, itching}\n",
    "\n",
    "### 1 - MAGIC Gamma Telescope Data Set (Target_variable: class: g,h # gamma (signal), hadron (background))\n",
    "\n",
    "Link: https://archive.ics.uci.edu/ml/datasets/magic%2Bgamma%2Btelescope\n",
    "\n",
    "Features to use -> {fLength, fWidth, fSize, fConc}\n",
    "\n",
    "### 2 - Automobile dataset (Target_variable: body-type)\n",
    "\n",
    "Link: https://archive.ics.uci.edu/ml/datasets/Automobile\n",
    "\n",
    "Features to use -> {length, width, height, horsepower}\n",
    "\n",
    "### 3 - Glass dataset (Target_variable: glass_type)\n",
    "\n",
    "Link: https://archive.ics.uci.edu/ml/machine-learning-databases/glass/glass.data\n",
    "\n",
    "Features to use -> {refractive_index, sodium, aluminium, silicon}\n",
    "\n",
    "Perform all the tasks in the assignment only for one single dataset."
   ]
  },
  {
   "cell_type": "markdown",
   "metadata": {},
   "source": [
    "# Feature information\n",
    "\n",
    "For this assignment, students must start with the 4 features for their respective datasets, use PCA and LDA to get the 2 most significant features as they continue to solve the assignment."
   ]
  },
  {
   "cell_type": "code",
   "execution_count": 293,
   "metadata": {
    "id": "ptG7Gf_CJ9aC"
   },
   "outputs": [],
   "source": [
    "# imports\n",
    "import pandas as pd\n",
    "import numpy as np\n",
    "import math\n",
    "from sklearn.preprocessing import StandardScaler\n",
    "import matplotlib.pyplot as plt\n",
    "\n",
    "%matplotlib inline"
   ]
  },
  {
   "cell_type": "markdown",
   "metadata": {
    "id": "jn4k__-jKTnP"
   },
   "source": [
    "Step 1: load the dataset"
   ]
  },
  {
   "cell_type": "code",
   "execution_count": 294,
   "metadata": {
    "id": "SBkf5uzUKOk0"
   },
   "outputs": [],
   "source": [
    "# loads csv file into pandas dataframe\n",
    "df = pd.read_csv('automobile.csv')"
   ]
  },
  {
   "cell_type": "code",
   "execution_count": 295,
   "metadata": {},
   "outputs": [
    {
     "name": "stderr",
     "output_type": "stream",
     "text": [
      "C:\\Users\\pavan\\AppData\\Local\\Temp\\ipykernel_14316\\2128210604.py:10: SettingWithCopyWarning: \n",
      "A value is trying to be set on a copy of a slice from a DataFrame.\n",
      "Try using .loc[row_indexer,col_indexer] = value instead\n",
      "\n",
      "See the caveats in the documentation: https://pandas.pydata.org/pandas-docs/stable/user_guide/indexing.html#returning-a-view-versus-a-copy\n",
      "  predictors_df1.loc[:,\"horsepower\"] = predictors_df1.loc[:,\"horsepower\"].astype(\"float\")\n"
     ]
    }
   ],
   "source": [
    "# Keeping the data ready to remove rows with '?' so all the columns will have equal number of rows.\n",
    "df1 = df[['length', 'width', 'height', 'horsepower', 'body-style']]\n",
    "df1 = df1.loc[~df1.apply(lambda row : any('?' in str(cell) for cell in row) ,axis=1)]\n",
    "\n",
    "# Dividing into predictors and response variables.\n",
    "predictors_df1 = df1[['length', 'width', 'height', 'horsepower']]\n",
    "response_df = df1['body-style']\n",
    "\n",
    "#Converting all features for test to same datatype\n",
    "predictors_df1.loc[:,\"horsepower\"] = predictors_df1.loc[:,\"horsepower\"].astype(\"float\")"
   ]
  },
  {
   "cell_type": "code",
   "execution_count": 296,
   "metadata": {},
   "outputs": [
    {
     "data": {
      "text/plain": [
       "length        float64\n",
       "width         float64\n",
       "height        float64\n",
       "horsepower    float64\n",
       "dtype: object"
      ]
     },
     "execution_count": 296,
     "metadata": {},
     "output_type": "execute_result"
    }
   ],
   "source": [
    "predictors_df1.dtypes"
   ]
  },
  {
   "cell_type": "markdown",
   "metadata": {
    "id": "t9Asf63LInZR"
   },
   "source": [
    "# Step 2 - 8: PCA implementation \n",
    "\n"
   ]
  },
  {
   "cell_type": "markdown",
   "metadata": {
    "id": "KLnOaQigNjzM"
   },
   "source": [
    "# Step 2: Normalize the feature columns\n",
    "\n",
    "Hint: you can use the imported StandardScaler"
   ]
  },
  {
   "cell_type": "code",
   "execution_count": 297,
   "metadata": {
    "id": "d76FXPd0Nowz"
   },
   "outputs": [],
   "source": [
    "X_std = StandardScaler().fit_transform(predictors_df1)"
   ]
  },
  {
   "cell_type": "markdown",
   "metadata": {
    "id": "0b1asdl_MCtf"
   },
   "source": [
    "# Eigen decomposition : Compute the eigen values and eigen vectors\n",
    "\n",
    "Step 3: \n",
    "Calculate the covariance between the feature columns. This should be a d x d matrix, where d is the number of features. \n",
    "$\\sigma_{jk} = \\frac{1}{n-1}\\sum_{i=1}^{N}\\left(  x_{ij}-\\bar{x}_j \\right)  \\left( x_{ik}-\\bar{x}_k \\right).$\n",
    "\n",
    "In matrix notation:   \n",
    "$\\Sigma = \\frac{1}{n-1} \\left( (\\mathbf{X} - \\mathbf{\\bar{x}})^T\\;(\\mathbf{X} - \\mathbf{\\bar{x}}) \\right)$  \n",
    "where $\\mathbf{\\bar{x}}$ is the mean vector"
   ]
  },
  {
   "cell_type": "code",
   "execution_count": 298,
   "metadata": {
    "id": "lF06OHpIMfCe"
   },
   "outputs": [
    {
     "name": "stdout",
     "output_type": "stream",
     "text": [
      "Covariance matrix \n",
      "[[ 1.005   0.8453  0.4962  0.5578]\n",
      " [ 0.8453  1.005   0.2835  0.6457]\n",
      " [ 0.4962  0.2835  1.005  -0.1113]\n",
      " [ 0.5578  0.6457 -0.1113  1.005 ]]\n"
     ]
    }
   ],
   "source": [
    "mean_vec = np.mean(X_std, axis=0)\n",
    "cov_mat = (X_std - mean_vec).T.dot((X_std - mean_vec)) / (X_std.shape[0]-1)\n",
    "print('Covariance matrix \\n%s' %cov_mat)"
   ]
  },
  {
   "cell_type": "markdown",
   "metadata": {
    "id": "0_kdmJ42NqQK"
   },
   "source": [
    "# Step 4 : Find the eigen values and eigen vectors that represent the feature space.\n",
    "\n",
    "The eigenvectors (principal components) will be used to determine the directions of the new feature space, and the eigenvalues determine their magnitude. In other words, the eigenvalues will explain the variance of the data along the feature axes.\n",
    "\n",
    "\n"
   ]
  },
  {
   "cell_type": "code",
   "execution_count": 299,
   "metadata": {
    "id": "xAyaAMsGODk0"
   },
   "outputs": [
    {
     "name": "stdout",
     "output_type": "stream",
     "text": [
      "Eigenvectors \n",
      "[[-0.6002 -0.1381  0.7605 -0.2056]\n",
      " [-0.5922  0.09   -0.5958 -0.535 ]\n",
      " [-0.2779 -0.8144 -0.2468  0.4455]\n",
      " [-0.4601  0.5563 -0.0762  0.6877]]\n",
      "\n",
      "Eigenvalues \n",
      "[2.4964 1.1338 0.1258 0.2638]\n"
     ]
    }
   ],
   "source": [
    "cov_mat = np.cov(X_std.T)\n",
    "eig_vals, eig_vecs = np.linalg.eig(cov_mat)\n",
    "\n",
    "print('Eigenvectors \\n%s' %eig_vecs)\n",
    "print('\\nEigenvalues \\n%s' %eig_vals)"
   ]
  },
  {
   "cell_type": "code",
   "execution_count": 300,
   "metadata": {},
   "outputs": [
    {
     "name": "stdout",
     "output_type": "stream",
     "text": [
      "Everything ok!\n"
     ]
    }
   ],
   "source": [
    "for ev in eig_vecs.T:\n",
    "    np.testing.assert_array_almost_equal(1.0, np.linalg.norm(ev))\n",
    "print('Everything ok!')"
   ]
  },
  {
   "cell_type": "markdown",
   "metadata": {
    "id": "1R68y5IVOFFG"
   },
   "source": [
    "# Step 5 : Consider k=2, Find k axes in the old feature space that contribute most to the variance of the data.\n",
    "\n",
    "where k is the number of principal components, i.e the number of axes in the new feature space.\n",
    "\n",
    "Hint: k largest eigen values and their corressponding eigen vectors"
   ]
  },
  {
   "cell_type": "code",
   "execution_count": 301,
   "metadata": {
    "id": "Vf5wQpYgSaXe"
   },
   "outputs": [
    {
     "name": "stdout",
     "output_type": "stream",
     "text": [
      "Eigenvalues in descending order:\n",
      "2.4963675208586933\n",
      "1.133777583852353\n",
      "0.26381598575861925\n",
      "0.12584088972835156\n"
     ]
    }
   ],
   "source": [
    "eig_pairs = [(np.abs(eig_vals[i]), eig_vecs[:,i]) for i in range(len(eig_vals))]\n",
    "\n",
    "# Sort the (eigenvalue, eigenvector) tuples from high to low\n",
    "eig_pairs.sort(key=lambda x: x[0], reverse=True)\n",
    "\n",
    "# Visually confirm that the list is correctly sorted by decreasing eigenvalues\n",
    "print('Eigenvalues in descending order:')\n",
    "for i in eig_pairs:\n",
    "    print(i[0])"
   ]
  },
  {
   "cell_type": "code",
   "execution_count": 302,
   "metadata": {},
   "outputs": [],
   "source": [
    "tot = sum(eig_vals)\n",
    "var_exp = [(i / tot)*100 for i in sorted(eig_vals, reverse=True)]\n",
    "cum_var_exp = np.cumsum(var_exp)"
   ]
  },
  {
   "cell_type": "code",
   "execution_count": 303,
   "metadata": {},
   "outputs": [
    {
     "data": {
      "image/png": "[encoded data removed]",
      "text/plain": [
       "<Figure size 432x288 with 1 Axes>"
      ]
     },
     "metadata": {},
     "output_type": "display_data"
    }
   ],
   "source": [
    "with plt.style.context('seaborn-whitegrid'):\n",
    "    plt.figure(figsize=(6, 4))\n",
    "\n",
    "    plt.bar(range(4), var_exp, alpha=0.5, align='center',\n",
    "            label='individual explained variance')\n",
    "    plt.step(range(4), cum_var_exp, where='mid',\n",
    "             label='cumulative explained variance')\n",
    "    plt.ylabel('Explained variance ratio')\n",
    "    plt.xlabel('Principal components')\n",
    "    plt.legend(loc='best')\n",
    "    plt.tight_layout()"
   ]
  },
  {
   "cell_type": "code",
   "execution_count": 304,
   "metadata": {},
   "outputs": [],
   "source": [
    "# First and second component has the maximum information so the thrird and fourth can be dropped"
   ]
  },
  {
   "cell_type": "markdown",
   "metadata": {
    "id": "SJbDAAZbSb9V"
   },
   "source": [
    "# Step 6: Compute the projection matrix\n",
    "\n",
    "The projection matrix will be of dimension d x k. This matrix will be used in the next step to project the data points in the old feature space to the newly calculated feature space.\n",
    "\n",
    "Note: The dimension of old feature space is d, whereas the new feature space is k.\n",
    "\n",
    "Hint: stack the eigen values obtained in the previous step accordingly"
   ]
  },
  {
   "cell_type": "code",
   "execution_count": 305,
   "metadata": {
    "id": "bv-KpB-nTwTm"
   },
   "outputs": [
    {
     "name": "stdout",
     "output_type": "stream",
     "text": [
      "Matrix W:\n",
      " [[-0.6002 -0.1381]\n",
      " [-0.5922  0.09  ]\n",
      " [-0.2779 -0.8144]\n",
      " [-0.4601  0.5563]]\n"
     ]
    }
   ],
   "source": [
    "matrix_w = np.hstack((eig_pairs[0][1].reshape(4,1), \n",
    "                      eig_pairs[1][1].reshape(4,1)))\n",
    "\n",
    "print('Matrix W:\\n', matrix_w)"
   ]
  },
  {
   "cell_type": "markdown",
   "metadata": {
    "id": "lNY3eGjbTxNW"
   },
   "source": [
    "# Step 7: Project the data points onto the new feature space\n",
    "\n",
    "The output of this step should be a matrix with dimension, no.of.samples x k\n",
    "\n",
    "Hint: Use the original data points and the projection matrix computed in step 6 to get the new points."
   ]
  },
  {
   "cell_type": "code",
   "execution_count": 306,
   "metadata": {},
   "outputs": [
    {
     "name": "stdout",
     "output_type": "stream",
     "text": [
      "[[ 1.2333  1.7263]\n",
      " [ 1.2333  1.7263]\n",
      " [-0.1791  1.1587]\n",
      " [-0.247  -0.2376]\n",
      " [-0.4531 -0.0467]\n",
      " [-0.2646  0.2722]\n",
      " [-2.7145 -0.5555]\n",
      " [-2.7145 -0.5555]\n",
      " [-3.0858 -0.2011]\n",
      " [-1.2045  1.3989]\n",
      " [ 0.1406 -0.3125]\n",
      " [ 0.1406 -0.3125]\n",
      " [-0.0917 -0.0316]\n",
      " [-0.0917 -0.0316]\n",
      " [-1.4227 -0.548 ]\n",
      " [-2.1312  0.3086]\n",
      " [-2.4118  0.9653]\n",
      " [-3.6903  0.1861]\n",
      " [ 3.8559 -0.4784]\n",
      " [ 2.109   0.2043]\n",
      " [ 1.9681  0.1719]\n",
      " [ 2.146   0.57  ]\n",
      " [ 2.146   0.57  ]\n",
      " [ 1.7511  1.0475]\n",
      " [ 2.1688  0.6368]\n",
      " [ 2.1688  0.6368]\n",
      " [ 2.1688  0.6368]\n",
      " [ 1.7739  1.1143]\n",
      " [-0.1737 -2.317 ]\n",
      " [-0.1412  1.7788]\n",
      " [ 2.8516  0.5757]\n",
      " [ 2.6425  0.8285]\n",
      " [ 2.3331 -0.054 ]\n",
      " [ 2.1473  0.1707]\n",
      " [ 2.1473  0.1707]\n",
      " [ 1.2796 -0.6141]\n",
      " [ 1.1798 -1.8179]\n",
      " [ 0.7705 -0.0682]\n",
      " [ 0.7705 -0.0682]\n",
      " [ 0.2954 -0.4239]\n",
      " [ 1.0394 -0.5369]\n",
      " [ 0.1212 -0.2132]\n",
      " [ 0.5721  0.9127]\n",
      " [ 1.6219 -0.4254]\n",
      " [ 2.109   0.2043]\n",
      " [ 2.109   0.2043]\n",
      " [ 0.693   0.566 ]\n",
      " [-2.9896  1.1881]\n",
      " [-2.9896  1.1881]\n",
      " [-3.3099  4.1971]\n",
      " [ 1.5719 -0.5363]\n",
      " [ 1.5719 -0.5363]\n",
      " [ 1.5719 -0.5363]\n",
      " [ 1.1978 -0.6224]\n",
      " [ 1.1978 -0.6224]\n",
      " [ 0.8077  1.3832]\n",
      " [ 0.8077  1.3832]\n",
      " [ 0.8077  1.3832]\n",
      " [ 0.4128  1.8607]\n",
      " [-0.1105 -0.2907]\n",
      " [-0.3158 -0.8923]\n",
      " [-0.1105 -0.2907]\n",
      " [-0.3158 -0.8923]\n",
      " [-0.0835 -1.1732]\n",
      " [-0.3158 -0.8923]\n",
      " [-0.3622 -0.0045]\n",
      " [ 0.1953 -0.6786]\n",
      " [-2.5662 -0.6662]\n",
      " [-2.8172 -1.4015]\n",
      " [-2.2186 -0.0935]\n",
      " [-3.4976 -0.6716]\n",
      " [-3.892  -0.2891]\n",
      " [-1.8279  1.8151]\n",
      " [-4.5189 -0.0101]\n",
      " [-4.0209  0.5364]\n",
      " [-1.7353  0.6756]\n",
      " [ 1.9807  0.5951]\n",
      " [ 1.9807  0.5951]\n",
      " [ 1.9807  0.5951]\n",
      " [ 1.7511  1.0475]\n",
      " [ 0.5446  1.6035]\n",
      " [ 0.8698  1.2102]\n",
      " [-0.1412  1.7788]\n",
      " [-0.1412  1.7788]\n",
      " [-0.1412  1.7788]\n",
      " [ 0.648   0.4817]\n",
      " [ 0.648   0.4817]\n",
      " [ 0.3228  0.8749]\n",
      " [ 0.3228  0.8749]\n",
      " [ 1.3237 -0.742 ]\n",
      " [ 1.4863 -0.9386]\n",
      " [ 1.3237 -0.742 ]\n",
      " [ 1.3237 -0.742 ]\n",
      " [ 1.1997 -0.4625]\n",
      " [ 1.3237 -0.742 ]\n",
      " [ 1.446  -0.3443]\n",
      " [ 1.3237 -0.742 ]\n",
      " [ 1.1997 -0.4625]\n",
      " [ 1.6014 -0.3085]\n",
      " [ 0.1964 -0.4476]\n",
      " [ 0.1964 -0.4476]\n",
      " [-1.2494  0.1527]\n",
      " [-1.5044 -0.2139]\n",
      " [-1.3903  0.1203]\n",
      " [-0.5777  2.2514]\n",
      " [-1.0423  2.8131]\n",
      " [-0.9567  2.1642]\n",
      " [-1.5595 -1.1308]\n",
      " [-1.5363 -1.1589]\n",
      " [-2.3803 -1.9356]\n",
      " [-2.3571 -1.9637]\n",
      " [-1.5363 -1.1589]\n",
      " [-1.5363 -1.1589]\n",
      " [-2.129  -1.2952]\n",
      " [-2.3571 -1.9637]\n",
      " [-1.5595 -1.1308]\n",
      " [-1.5363 -1.1589]\n",
      " [-1.9748 -0.2691]\n",
      " [ 2.146   0.57  ]\n",
      " [ 1.7511  1.0475]\n",
      " [ 2.1688  0.6368]\n",
      " [ 1.6602  0.4582]\n",
      " [ 1.6602  0.4582]\n",
      " [-0.1737 -2.317 ]\n",
      " [-0.1412  1.7788]\n",
      " [-0.4601  1.8824]\n",
      " [-0.4539  2.1752]\n",
      " [-0.4539  2.1752]\n",
      " [-0.4539  2.1752]\n",
      " [-3.6109  3.9098]\n",
      " [-1.1137 -0.8261]\n",
      " [-1.1137 -0.8261]\n",
      " [-1.1137 -0.8261]\n",
      " [-1.1137 -0.8261]\n",
      " [-1.6945 -0.1239]\n",
      " [-1.6945 -0.1239]\n",
      " [ 1.9332 -0.3975]\n",
      " [ 1.7831 -0.3441]\n",
      " [ 1.529  -0.9975]\n",
      " [ 0.6345  0.1011]\n",
      " [ 0.6345  0.1011]\n",
      " [ 0.4951  0.2696]\n",
      " [ 0.4292 -0.5005]\n",
      " [ 0.0923 -0.0933]\n",
      " [ 0.5046 -0.0828]\n",
      " [ 0.3652  0.0857]\n",
      " [ 0.283  -0.7189]\n",
      " [-0.0538 -0.3117]\n",
      " [ 1.7807 -0.7749]\n",
      " [ 1.7807 -0.7749]\n",
      " [ 1.7807 -0.7749]\n",
      " [ 0.7217 -2.4353]\n",
      " [ 0.7217 -2.4353]\n",
      " [ 0.7217 -2.4353]\n",
      " [ 1.2693 -0.2127]\n",
      " [ 1.2921 -0.1458]\n",
      " [ 1.4319 -0.4093]\n",
      " [ 1.4547 -0.3424]\n",
      " [ 1.2693 -0.2127]\n",
      " [ 1.2921 -0.1458]\n",
      " [ 1.2921 -0.1458]\n",
      " [ 1.3085 -0.1226]\n",
      " [ 1.3085 -0.1226]\n",
      " [ 0.8207  0.4672]\n",
      " [ 0.8207  0.4672]\n",
      " [ 0.0375  0.7071]\n",
      " [ 0.0375  0.7071]\n",
      " [ 0.0375  0.7071]\n",
      " [ 0.0375  0.7071]\n",
      " [ 0.0375  0.7071]\n",
      " [-0.0766  0.3729]\n",
      " [-0.2334 -0.5548]\n",
      " [-0.0127 -0.8217]\n",
      " [-0.1193 -0.2206]\n",
      " [-0.2334 -0.5548]\n",
      " [-0.1193 -0.2206]\n",
      " [-1.4184  1.3453]\n",
      " [-1.4184  1.3453]\n",
      " [-1.4782  0.4749]\n",
      " [-1.4782  0.4749]\n",
      " [ 0.6049 -1.3822]\n",
      " [ 0.2217 -0.9188]\n",
      " [ 0.6049 -1.3822]\n",
      " [ 0.2217 -0.9188]\n",
      " [ 0.2217 -0.9188]\n",
      " [ 0.4191 -1.1575]\n",
      " [ 0.0474 -0.7081]\n",
      " [ 1.1356 -0.7309]\n",
      " [ 1.3588  0.5929]\n",
      " [-0.7989 -0.4036]\n",
      " [-0.3111 -0.9934]\n",
      " [-0.6843 -0.7449]\n",
      " [-1.4713 -0.7986]\n",
      " [-1.6196 -1.2331]\n",
      " [-1.4713 -0.7986]\n",
      " [-1.6196 -1.2331]\n",
      " [-2.0288 -0.1246]\n",
      " [-2.1771 -0.559 ]\n",
      " [-1.8599 -0.4935]\n",
      " [-2.3666  0.1483]\n",
      " [-2.0922 -0.2127]\n",
      " [-1.767  -0.6059]\n",
      " [-1.8599 -0.4935]]\n"
     ]
    }
   ],
   "source": [
    "Y = X_std.dot(matrix_w)\n",
    "print(Y)"
   ]
  },
  {
   "cell_type": "markdown",
   "metadata": {
    "id": "peCs2McwWoiL"
   },
   "source": [
    "# Step 8: Plot the new data points as a scatter plot\n",
    "\n",
    "Visualize the new data points on a plot. You can use the imported package matplotlib for this purpose"
   ]
  },
  {
   "cell_type": "code",
   "execution_count": 307,
   "metadata": {
    "id": "0EaiioGeXMeu"
   },
   "outputs": [
    {
     "data": {
      "image/png": "[encoded data removed]",
      "text/plain": [
       "<Figure size 720x432 with 1 Axes>"
      ]
     },
     "metadata": {},
     "output_type": "display_data"
    }
   ],
   "source": [
    "with plt.style.context('seaborn-whitegrid'):\n",
    "    plt.figure(figsize=(10, 6))\n",
    "    for lab, col in zip(('sedan','hatchback','wagon','hardtop','convertible'), \n",
    "                        ('blue','red','green','black','orange')):\n",
    "        plt.scatter(Y[response_df==lab, 0],\n",
    "                    Y[response_df==lab, 1],\n",
    "                    label=lab,\n",
    "                    c=col)\n",
    "    plt.xlabel('Principal Component 1')\n",
    "    plt.ylabel('Principal Component 2')\n",
    "    plt.legend(loc='lower center')\n",
    "    plt.tight_layout()\n",
    "    \n",
    "#     plt.savefig('2d.png')"
   ]
  },
  {
   "cell_type": "markdown",
   "metadata": {},
   "source": [
    "# Step 9 - 14 Linear Discriminant Analysis"
   ]
  },
  {
   "cell_type": "markdown",
   "metadata": {},
   "source": [
    "# Step 9 - Prepare the dataset"
   ]
  },
  {
   "cell_type": "code",
   "execution_count": 308,
   "metadata": {},
   "outputs": [
    {
     "name": "stderr",
     "output_type": "stream",
     "text": [
      "C:\\Users\\pavan\\AppData\\Local\\Temp\\ipykernel_14316\\3207486836.py:21: SettingWithCopyWarning: \n",
      "A value is trying to be set on a copy of a slice from a DataFrame.\n",
      "Try using .loc[row_indexer,col_indexer] = value instead\n",
      "\n",
      "See the caveats in the documentation: https://pandas.pydata.org/pandas-docs/stable/user_guide/indexing.html#returning-a-view-versus-a-copy\n",
      "  predictors_df1.loc[:,\"horsepower\"] = predictors_df1.loc[:,\"horsepower\"].astype(\"float\")\n"
     ]
    }
   ],
   "source": [
    "# Import the dataset again from step 1.\n",
    "\"\"\"\n",
    "Make sure that the data is normalized and all the null values are removed.\n",
    "\"\"\"\n",
    "# Insert code below this line\n",
    "df = pd.read_csv('automobile.csv')\n",
    "# df = df.loc[~df.apply(lambda row : any('?' in str(cell) for cell in row) ,axis=1)]\n",
    "\n",
    "\n",
    "# Keeping the data ready to remove rows with '?' so all the columns will have equal number of rows.\n",
    "df2 = df[['length', 'width', 'height', 'horsepower', 'body-style']]\n",
    "df2 = df2.loc[~df2.apply(lambda row : any('?' in str(cell) for cell in row) ,axis=1)]\n",
    "\n",
    "# create custom encoding\n",
    "encode = {'body-style': {'sedan' : 1, 'hatchback': 2 , 'wagon': 3, 'hardtop': 4, 'convertible': 5}}\n",
    "df2 = df2.replace(encode)\n",
    "\n",
    "# Dividing into predictors and response variables.\n",
    "predictors_df1 = df2[['length', 'width', 'height', 'horsepower']]\n",
    "y = df2['body-style']\n",
    "predictors_df1.loc[:,\"horsepower\"] = predictors_df1.loc[:,\"horsepower\"].astype(\"float\")\n",
    "\n",
    "label_dict = {1: 'sedan' ,2: 'hatchback' ,3: 'wagon', 4: 'hardtop', 5: 'convertible'}"
   ]
  },
  {
   "cell_type": "code",
   "execution_count": 309,
   "metadata": {},
   "outputs": [
    {
     "data": {
      "text/plain": [
       "1    96\n",
       "2    69\n",
       "3    24\n",
       "4     8\n",
       "5     6\n",
       "Name: body-style, dtype: int64"
      ]
     },
     "execution_count": 309,
     "metadata": {},
     "output_type": "execute_result"
    }
   ],
   "source": [
    "df2['body-style'].value_counts()"
   ]
  },
  {
   "cell_type": "code",
   "execution_count": 310,
   "metadata": {},
   "outputs": [],
   "source": [
    "X= StandardScaler().fit_transform(predictors_df1)"
   ]
  },
  {
   "cell_type": "markdown",
   "metadata": {},
   "source": [
    "# Step 10 - Computing d-dimensional mean vectors"
   ]
  },
  {
   "cell_type": "markdown",
   "metadata": {},
   "source": [
    "In this first step, we will start off with a simple computation of the mean vectors $\\pmb m_i$, $(i = 1,2,3,..)$ of the different classes:\n",
    "    \n",
    "$\\pmb m_i = \\begin{bmatrix} \n",
    "\\mu_{\\omega_i (\\text{feature 1})}\\\\ \n",
    "\\mu_{\\omega_i (\\text{feature 2})}\\\\ \n",
    "\\mu_{\\omega_i (\\text{feature 3)}}\\\\\n",
    "\\mu_{\\omega_i (\\text{feature 4})}\\\\\n",
    "\\end{bmatrix} \\; , \\quad \\text{with} \\quad i = 1,2,3,...$"
   ]
  },
  {
   "cell_type": "code",
   "execution_count": 311,
   "metadata": {},
   "outputs": [
    {
     "name": "stdout",
     "output_type": "stream",
     "text": [
      "Mean Vector class 1: [ 0.2903  0.167   0.2479 -0.0291]\n",
      "\n",
      "Mean Vector class 2: [-0.6114 -0.3135 -0.6573 -0.0738]\n",
      "\n",
      "Mean Vector class 3: [ 0.5906  0.1602  1.255  -0.1642]\n",
      "\n",
      "Mean Vector class 4: [ 0.2378  0.3308 -0.3626  0.959 ]\n",
      "\n",
      "Mean Vector class 5: [-0.2927 -0.148  -0.9439  0.6919]\n",
      "\n"
     ]
    }
   ],
   "source": [
    "np.set_printoptions(precision=4)\n",
    "\n",
    "mean_vectors = []\n",
    "for cl in range(1,6):\n",
    "    mean_vectors.append(np.mean(X[y==cl], axis=0))\n",
    "    print('Mean Vector class %s: %s\\n' %(cl, mean_vectors[cl-1]))"
   ]
  },
  {
   "cell_type": "markdown",
   "metadata": {},
   "source": [
    "# Step 11 - Computing the Scatter Matrices"
   ]
  },
  {
   "cell_type": "markdown",
   "metadata": {},
   "source": [
    "## 11.1 Within-class scatter matrix $S_W$"
   ]
  },
  {
   "cell_type": "markdown",
   "metadata": {},
   "source": [
    "The **within-class scatter** matrix $S_W$ is computed by the following equation:  \n",
    "\n",
    "$S_W = \\sum\\limits_{i=1}^{c}  S_i$\n",
    "\n",
    "where  \n",
    "$S_i = \\sum\\limits_{\\pmb x \\in D_i}^n (\\pmb x - \\pmb m_i)\\;(\\pmb x - \\pmb m_i)^T$  \n",
    "(scatter matrix for every class) \n",
    "\n",
    "and $\\pmb m_i$ is the mean vector    \n",
    "$\\pmb m_i = \\frac{1}{n_i} \\sum\\limits_{\\pmb x \\in D_i}^n \\; \\pmb x_k$"
   ]
  },
  {
   "cell_type": "code",
   "execution_count": 312,
   "metadata": {},
   "outputs": [
    {
     "name": "stdout",
     "output_type": "stream",
     "text": [
      "within-class Scatter Matrix:\n",
      " [[159.7784 149.7175  46.8422 112.0813]\n",
      " [149.7175 191.9176  34.3658 128.0019]\n",
      " [ 46.8422  34.3658 123.0993 -13.4815]\n",
      " [112.0813 128.0019 -13.4815 191.6655]]\n"
     ]
    }
   ],
   "source": [
    "S_W = np.zeros((4,4))\n",
    "for cl,mv in zip(range(1,6), mean_vectors):\n",
    "    class_sc_mat = np.zeros((4,4))                  # scatter matrix for every class\n",
    "    for row in X[y == cl]:\n",
    "        row, mv = row.reshape(4,1), mv.reshape(4,1) # make column vectors\n",
    "        class_sc_mat += (row-mv).dot((row-mv).T)\n",
    "    S_W += class_sc_mat                             # sum class scatter matrices\n",
    "print('within-class Scatter Matrix:\\n', S_W)"
   ]
  },
  {
   "cell_type": "markdown",
   "metadata": {},
   "source": [
    "## 11.2 Between-class matrix $S_B$"
   ]
  },
  {
   "cell_type": "markdown",
   "metadata": {},
   "source": [
    "The **between-class scatter** matrix $S_B$ is computed by the following equation:  \n",
    "\n",
    "$S_B =  \\sum\\limits_{i=1}^{c} N_{i} (\\pmb m_i - \\pmb m) (\\pmb m_i - \\pmb m)^T$\n",
    "\n",
    "where  \n",
    " $\\pmb m$ is the overall mean, and $\\pmb m_{i}$ and $N_{i}$ are the sample mean and sizes of the respective classes."
   ]
  },
  {
   "cell_type": "code",
   "execution_count": 313,
   "metadata": {},
   "outputs": [
    {
     "name": "stdout",
     "output_type": "stream",
     "text": [
      "between-class Scatter Matrix:\n",
      " [[43.2216 21.0406 53.3913  0.5843]\n",
      " [21.0406 11.0824 22.8961  2.4219]\n",
      " [53.3913 22.8961 79.9007 -8.9928]\n",
      " [ 0.5843  2.4219 -8.9928 11.3345]]\n"
     ]
    }
   ],
   "source": [
    "overall_mean = np.mean(X, axis=0)\n",
    "\n",
    "S_B = np.zeros((4,4))\n",
    "for i,mean_vec in enumerate(mean_vectors):  \n",
    "    n = X[y==i+1,:].shape[0]\n",
    "    mean_vec = mean_vec.reshape(4,1) # make column vector\n",
    "    overall_mean = overall_mean.reshape(4,1) # make column vector\n",
    "    S_B += n * (mean_vec - overall_mean).dot((mean_vec - overall_mean).T)\n",
    "    \n",
    "print('between-class Scatter Matrix:\\n', S_B)"
   ]
  },
  {
   "cell_type": "markdown",
   "metadata": {},
   "source": [
    "# Step 12: Solving the generalized eigenvalue problem for the matrix $S_{W}^{-1}S_B$"
   ]
  },
  {
   "cell_type": "markdown",
   "metadata": {},
   "source": [
    "Next, we will solve the generalized eigenvalue problem for the matrix $S_{W}^{-1}S_B$ to obtain the linear discriminants."
   ]
  },
  {
   "cell_type": "code",
   "execution_count": 314,
   "metadata": {},
   "outputs": [
    {
     "name": "stdout",
     "output_type": "stream",
     "text": [
      "\n",
      "Eigenvector 1: \n",
      "[[ 0.7184]\n",
      " [-0.419 ]\n",
      " [ 0.5356]\n",
      " [-0.1468]]\n",
      "Eigenvalue 1: 8.36e-01\n",
      "\n",
      "Eigenvector 2: \n",
      "[[ 0.5999]\n",
      " [-0.7795]\n",
      " [-0.1797]\n",
      " [-0.0139]]\n",
      "Eigenvalue 2: 2.43e-03\n",
      "\n",
      "Eigenvector 3: \n",
      "[[ 0.3862]\n",
      " [-0.5307]\n",
      " [-0.0328]\n",
      " [ 0.7538]]\n",
      "Eigenvalue 3: 6.47e-02\n",
      "\n",
      "Eigenvector 4: \n",
      "[[-0.6848]\n",
      " [-0.0839]\n",
      " [ 0.5485]\n",
      " [ 0.4725]]\n",
      "Eigenvalue 4: 4.16e-02\n"
     ]
    }
   ],
   "source": [
    "eig_vals, eig_vecs = np.linalg.eig(np.linalg.inv(S_W).dot(S_B))\n",
    "\n",
    "for i in range(len(eig_vals)):\n",
    "    eigvec_sc = eig_vecs[:,i].reshape(4,1)   \n",
    "    print('\\nEigenvector {}: \\n{}'.format(i+1, eigvec_sc.real))\n",
    "    print('Eigenvalue {:}: {:.2e}'.format(i+1, eig_vals[i].real))"
   ]
  },
  {
   "cell_type": "markdown",
   "metadata": {},
   "source": [
    "### Checking the eigenvector-eigenvalue calculation"
   ]
  },
  {
   "cell_type": "markdown",
   "metadata": {},
   "source": [
    "A quick check that the eigenvector-eigenvalue calculation is correct and satisfy the equation:\n",
    "\n",
    "$\\pmb A\\pmb{v} =  \\lambda\\pmb{v}$  \n",
    "\n",
    "<br>\n",
    "where  \n",
    "$\\pmb A = S_{W}^{-1}S_B\\\\\n",
    "\\pmb{v} = \\; \\text{Eigenvector}\\\\\n",
    "\\lambda = \\; \\text{Eigenvalue}$"
   ]
  },
  {
   "cell_type": "code",
   "execution_count": 315,
   "metadata": {},
   "outputs": [],
   "source": [
    "for i in range(len(eig_vals)):\n",
    "    eigv = eig_vecs[:,i].reshape(4,1) \n",
    "    np.testing.assert_array_almost_equal(np.linalg.inv(S_W).dot(S_B).dot(eigv), \n",
    "                                         eig_vals[i] * eigv, \n",
    "                                         decimal=6, err_msg='', verbose=True)\n",
    "\n",
    "# This cell must run without errors"
   ]
  },
  {
   "cell_type": "markdown",
   "metadata": {},
   "source": [
    "## Step 13: Selecting linear discriminants for the new feature subspace"
   ]
  },
  {
   "cell_type": "markdown",
   "metadata": {},
   "source": [
    "So, in order to decide which eigenvector(s) we want to drop for our lower-dimensional subspace, we have to take a look at the corresponding eigenvalues of the eigenvectors. Roughly speaking, the eigenvectors with the lowest eigenvalues bear the least information about the distribution of the data, and those are the ones we want to drop.  \n",
    "The common approach is to rank the eigenvectors from highest to lowest corresponding eigenvalue and choose the top $k$ eigenvectors."
   ]
  },
  {
   "cell_type": "code",
   "execution_count": 316,
   "metadata": {},
   "outputs": [
    {
     "name": "stdout",
     "output_type": "stream",
     "text": [
      "Eigenvalues in decreasing order:\n",
      "\n",
      "0.8360905647847465\n",
      "0.06467604055719693\n",
      "0.04164127138088585\n",
      "0.002431343546970434\n"
     ]
    }
   ],
   "source": [
    "# Eigenvalues in decreasing order:\n",
    "# Make a list of (eigenvalue, eigenvector) tuples\n",
    "eig_pairs = [(np.abs(eig_vals[i]), eig_vecs[:,i]) for i in range(len(eig_vals))]\n",
    "\n",
    "# Sort the (eigenvalue, eigenvector) tuples from high to low\n",
    "eig_pairs = sorted(eig_pairs, key=lambda k: k[0], reverse=True)\n",
    "\n",
    "# Visually confirm that the list is correctly sorted by decreasing eigenvalues\n",
    "\n",
    "print('Eigenvalues in decreasing order:\\n')\n",
    "for i in eig_pairs:\n",
    "    print(i[0])"
   ]
  },
  {
   "cell_type": "markdown",
   "metadata": {},
   "source": [
    "# 13.1. Choosing *k* eigenvectors with the largest eigenvalues"
   ]
  },
  {
   "cell_type": "markdown",
   "metadata": {},
   "source": [
    "After sorting the eigenpairs by decreasing eigenvalues, it is now time to construct our $d \\times k$-dimensional eigenvector matrix $\\pmb W$ (here $4 \\times 2$: based on the 2 most informative eigenpairs) and thereby reducing the initial 4-dimensional feature space into a 2-dimensional feature subspace."
   ]
  },
  {
   "cell_type": "code",
   "execution_count": 317,
   "metadata": {},
   "outputs": [
    {
     "name": "stdout",
     "output_type": "stream",
     "text": [
      "Matrix W:\n",
      " [[ 0.7184  0.3862]\n",
      " [-0.419  -0.5307]\n",
      " [ 0.5356 -0.0328]\n",
      " [-0.1468  0.7538]]\n"
     ]
    }
   ],
   "source": [
    "# Tip: use np.hstack\n",
    "W = np.hstack((eig_pairs[0][1].reshape(4,1), eig_pairs[1][1].reshape(4,1)))\n",
    "print('Matrix W:\\n', W.real)"
   ]
  },
  {
   "cell_type": "markdown",
   "metadata": {},
   "source": [
    "# Step 14: Transforming the samples onto the new subspace"
   ]
  },
  {
   "cell_type": "markdown",
   "metadata": {},
   "source": [
    "In the last step, we use the $4 \\times 2$-dimensional matrix $\\pmb W$ that we just computed to transform our samples onto the new subspace via the equation   \n",
    "\n",
    "$\\pmb Y = \\pmb X \\times \\pmb W $.\n",
    "\n",
    "(where $\\pmb X$ is a $n \\times d$-dimensional matrix representing the $n$ samples, and $\\pmb Y$ are the transformed $n \\times k$-dimensional samples in the new subspace)."
   ]
  },
  {
   "cell_type": "code",
   "execution_count": 318,
   "metadata": {},
   "outputs": [
    {
     "data": {
      "text/plain": [
       "array([[-1.0606,  0.4769],\n",
       "       [-1.0606,  0.4769],\n",
       "       [-0.5619,  0.976 ],\n",
       "       [ 0.2259, -0.0429],\n",
       "       [ 0.1388,  0.155 ],\n",
       "       [-0.0463,  0.1226],\n",
       "       [ 0.4266, -0.6901],\n",
       "       [ 0.4266, -0.6901],\n",
       "       [ 0.3594, -0.122 ],\n",
       "       [-0.7328,  0.7218],\n",
       "       [ 0.5141,  0.2899],\n",
       "       [ 0.5141,  0.2899],\n",
       "       [ 0.44  ,  0.6704],\n",
       "       [ 0.44  ,  0.6704],\n",
       "       [ 1.0478,  0.5145],\n",
       "       [ 0.8218,  1.6751],\n",
       "       [ 0.4664,  1.6052],\n",
       "       [ 0.6392,  0.9296],\n",
       "       [-0.7299, -0.7087],\n",
       "       [-0.8579, -0.626 ],\n",
       "       [-0.6893, -0.5354],\n",
       "       [-1.0718, -0.6535],\n",
       "       [-1.0718, -0.6535],\n",
       "       [-1.1978, -0.0067],\n",
       "       [-1.1158, -0.6509],\n",
       "       [-1.1158, -0.6509],\n",
       "       [-1.1158, -0.6509],\n",
       "       [-1.2417, -0.004 ],\n",
       "       [ 1.6823, -0.0508],\n",
       "       [-1.0517,  0.6994],\n",
       "       [-1.7927, -1.2655],\n",
       "       [-1.8594, -0.923 ],\n",
       "       [-1.11  , -1.1075],\n",
       "       [-1.1692, -0.8031],\n",
       "       [-1.1692, -0.8031],\n",
       "       [ 0.0275, -0.4098],\n",
       "       [ 0.516 , -0.6332],\n",
       "       [-0.2688, -0.3715],\n",
       "       [-0.2688, -0.3715],\n",
       "       [ 0.3664, -0.1353],\n",
       "       [ 0.8926,  0.5313],\n",
       "       [ 0.3108,  0.1501],\n",
       "       [-0.8891, -0.2217],\n",
       "       [ 0.6535,  0.413 ],\n",
       "       [-0.8579, -0.626 ],\n",
       "       [-0.8579, -0.626 ],\n",
       "       [-0.4047, -0.1104],\n",
       "       [ 0.2967,  1.2648],\n",
       "       [ 0.2967,  1.2648],\n",
       "       [-1.7752,  2.4745],\n",
       "       [-0.3198, -0.7404],\n",
       "       [-0.3198, -0.7404],\n",
       "       [-0.3198, -0.7404],\n",
       "       [ 0.1279, -0.4997],\n",
       "       [ 0.1279, -0.4997],\n",
       "       [-1.1479, -0.1129],\n",
       "       [-1.1479, -0.1129],\n",
       "       [-1.1479, -0.1129],\n",
       "       [-1.2738,  0.534 ],\n",
       "       [ 0.172 , -0.4139],\n",
       "       [ 0.5677, -0.4381],\n",
       "       [ 0.172 , -0.4139],\n",
       "       [ 0.5677, -0.4381],\n",
       "       [ 0.6418, -0.8186],\n",
       "       [ 0.5677, -0.4381],\n",
       "       [ 0.1077,  0.2729],\n",
       "       [ 0.2855, -0.6404],\n",
       "       [ 0.664 , -0.2382],\n",
       "       [ 1.1476, -0.2678],\n",
       "       [ 0.1147, -0.3229],\n",
       "       [ 1.0275, -0.2154],\n",
       "       [ 0.9529,  0.3908],\n",
       "       [-1.3627,  0.0666],\n",
       "       [ 1.2092,  1.1118],\n",
       "       [ 0.3475,  0.777 ],\n",
       "       [-0.1808,  0.9511],\n",
       "       [-1.1888, -0.8017],\n",
       "       [-1.1888, -0.8017],\n",
       "       [-1.1888, -0.8017],\n",
       "       [-1.1978, -0.0067],\n",
       "       [-0.9564,  0.3743],\n",
       "       [-0.8527, -0.1584],\n",
       "       [-1.0517,  0.6994],\n",
       "       [-1.0517,  0.6994],\n",
       "       [-1.0517,  0.6994],\n",
       "       [-0.404 , -0.2068],\n",
       "       [-0.404 , -0.2068],\n",
       "       [-0.5077,  0.326 ],\n",
       "       [-0.5077,  0.326 ],\n",
       "       [ 0.2029, -0.4342],\n",
       "       [ 0.2548, -0.7006],\n",
       "       [ 0.2029, -0.4342],\n",
       "       [ 0.2029, -0.4342],\n",
       "       [ 0.268 , -0.2676],\n",
       "       [ 0.2029, -0.4342],\n",
       "       [-0.0434, -0.4087],\n",
       "       [ 0.2029, -0.4342],\n",
       "       [ 0.268 , -0.2676],\n",
       "       [-0.2295, -0.5087],\n",
       "       [ 0.3412,  0.0034],\n",
       "       [ 0.3412,  0.0034],\n",
       "       [ 0.4546,  0.983 ],\n",
       "       [ 0.843 ,  1.0602],\n",
       "       [ 0.6232,  1.0736],\n",
       "       [-1.6744,  0.5183],\n",
       "       [-1.8226,  1.2794],\n",
       "       [-1.2209,  0.7622],\n",
       "       [ 0.9304, -0.3978],\n",
       "       [ 0.9378, -0.4358],\n",
       "       [ 2.0794, -0.0433],\n",
       "       [ 2.0868, -0.0814],\n",
       "       [ 0.9378, -0.4358],\n",
       "       [ 0.9378, -0.4358],\n",
       "       [ 1.6472, -0.0545],\n",
       "       [ 2.0868, -0.0814],\n",
       "       [ 0.9304, -0.3978],\n",
       "       [ 0.9378, -0.4358],\n",
       "       [ 0.6294,  0.4925],\n",
       "       [-1.0718, -0.6535],\n",
       "       [-1.1978, -0.0067],\n",
       "       [-1.1158, -0.6509],\n",
       "       [-0.4904, -0.341 ],\n",
       "       [-0.4904, -0.341 ],\n",
       "       [ 1.6823, -0.0508],\n",
       "       [-1.0517,  0.6994],\n",
       "       [-1.6842,  0.0331],\n",
       "       [-0.9703,  2.0467],\n",
       "       [-0.9703,  2.0467],\n",
       "       [-0.9703,  2.0467],\n",
       "       [-2.5396,  2.013 ],\n",
       "       [ 1.1149,  0.3236],\n",
       "       [ 1.1149,  0.3236],\n",
       "       [ 1.1149,  0.3236],\n",
       "       [ 1.1149,  0.3236],\n",
       "       [ 0.9297,  1.2749],\n",
       "       [ 0.9297,  1.2749],\n",
       "       [-0.3834, -0.5873],\n",
       "       [-0.379 , -0.5293],\n",
       "       [-0.0133, -0.6243],\n",
       "       [-0.2072, -0.3455],\n",
       "       [-0.2072, -0.3455],\n",
       "       [-0.2516, -0.1172],\n",
       "       [ 0.1885, -0.3698],\n",
       "       [ 0.0811,  0.182 ],\n",
       "       [-0.0101, -0.3054],\n",
       "       [-0.0545, -0.0771],\n",
       "       [ 0.4134, -0.3278],\n",
       "       [ 0.306 ,  0.224 ],\n",
       "       [-0.1159, -0.7243],\n",
       "       [-0.1159, -0.7243],\n",
       "       [-0.1159, -0.7243],\n",
       "       [ 1.5347, -0.4424],\n",
       "       [ 1.5347, -0.4424],\n",
       "       [ 1.5347, -0.4424],\n",
       "       [-0.1893, -0.5119],\n",
       "       [-0.2333, -0.5092],\n",
       "       [-0.1375, -0.7783],\n",
       "       [-0.1814, -0.7756],\n",
       "       [-0.1893, -0.5119],\n",
       "       [-0.2333, -0.5092],\n",
       "       [-0.2333, -0.5092],\n",
       "       [-0.0597, -0.3327],\n",
       "       [-0.0597, -0.3327],\n",
       "       [-0.2153,  0.4664],\n",
       "       [-0.2153,  0.4664],\n",
       "       [-0.2378,  0.39  ],\n",
       "       [-0.2378,  0.39  ],\n",
       "       [-0.2378,  0.39  ],\n",
       "       [-0.2378,  0.39  ],\n",
       "       [-0.2378,  0.39  ],\n",
       "       [-0.018 ,  0.3765],\n",
       "       [ 0.2782, -0.3466],\n",
       "       [ 0.3486, -0.7081],\n",
       "       [ 0.0584, -0.3331],\n",
       "       [ 0.2782, -0.3466],\n",
       "       [ 0.0584, -0.3331],\n",
       "       [-0.3894,  0.9559],\n",
       "       [-0.3894,  0.9559],\n",
       "       [ 0.5747,  1.2632],\n",
       "       [ 0.5747,  1.2632],\n",
       "       [ 0.5704, -0.9934],\n",
       "       [ 0.4482, -0.3656],\n",
       "       [ 0.5704, -0.9934],\n",
       "       [ 0.4482, -0.3656],\n",
       "       [ 0.4482, -0.3656],\n",
       "       [ 0.5111, -0.689 ],\n",
       "       [ 0.3926, -0.0802],\n",
       "       [-0.0599, -0.3358],\n",
       "       [-0.572 , -0.0298],\n",
       "       [ 0.445 ,  0.0382],\n",
       "       [ 0.6006, -0.7609],\n",
       "       [ 0.6951, -0.2897],\n",
       "       [ 1.1135,  0.2943],\n",
       "       [ 1.3993,  0.2768],\n",
       "       [ 1.1135,  0.2943],\n",
       "       [ 1.3993,  0.2768],\n",
       "       [ 0.9357,  1.2076],\n",
       "       [ 1.2215,  1.1901],\n",
       "       [ 0.6283, -0.116 ],\n",
       "       [ 0.4774,  0.7839],\n",
       "       [ 0.5542,  0.2645],\n",
       "       [ 0.658 , -0.2682],\n",
       "       [ 0.6283, -0.116 ]])"
      ]
     },
     "execution_count": 318,
     "metadata": {},
     "output_type": "execute_result"
    }
   ],
   "source": [
    "X_lda = X.dot(W)\n",
    "X_lda\n",
    "# assert X_lda.shape == (150,2), \"The matrix is not 150x2 dimensional.\""
   ]
  },
  {
   "cell_type": "code",
   "execution_count": 319,
   "metadata": {},
   "outputs": [
    {
     "data": {
      "image/png": "[encoded data removed]",
      "text/plain": [
       "<Figure size 432x288 with 1 Axes>"
      ]
     },
     "metadata": {
      "needs_background": "light"
     },
     "output_type": "display_data"
    }
   ],
   "source": [
    "from matplotlib import pyplot as plt\n",
    "\n",
    "def plot_step_lda():\n",
    "    \n",
    "    ax = plt.subplot(111)\n",
    "    for label,marker,color in zip(\n",
    "        range(1,6),('^', 's', 'o','*','p'),('blue','red','green','black','orange')):\n",
    "\n",
    "        plt.scatter(x=X_lda[:,0].real[y == label],\n",
    "                y=X_lda[:,1].real[y == label],\n",
    "                marker=marker,\n",
    "                color=color,\n",
    "                alpha=0.5,\n",
    "                label=label_dict[label]\n",
    "                )\n",
    "\n",
    "    plt.xlabel('LD1')\n",
    "    plt.ylabel('LD2')\n",
    "\n",
    "    leg = plt.legend(loc='upper right', fancybox=True)\n",
    "    leg.get_frame().set_alpha(0.5)\n",
    "    plt.title('LDA: Automobile projection onto the first 2 linear discriminants')\n",
    "    \n",
    "    # hide axis ticks\n",
    "    plt.tick_params(axis=\"both\", which=\"both\", bottom=\"off\", top=\"off\",  \n",
    "            labelbottom=\"on\", left=\"off\", right=\"off\", labelleft=\"on\")\n",
    "\n",
    "    # remove axis spines\n",
    "    ax.spines[\"top\"].set_visible(False)  \n",
    "    ax.spines[\"right\"].set_visible(False) \n",
    "    ax.spines[\"bottom\"].set_visible(False) \n",
    "    ax.spines[\"left\"].set_visible(False)    \n",
    " \n",
    "    plt.grid()\n",
    "    plt.tight_layout\n",
    "    plt.show()\n",
    "    \n",
    "plot_step_lda()"
   ]
  },
  {
   "cell_type": "markdown",
   "metadata": {},
   "source": [
    "# A comparison of PCA and LDA"
   ]
  },
  {
   "cell_type": "code",
   "execution_count": 320,
   "metadata": {},
   "outputs": [],
   "source": [
    "# Sample code for the penguins and Iris dataset visualization.\n",
    "# Do not change the code here.\n",
    "# Code written in this cell is not graded but is used to grade the output of code from previous cells.\n",
    "\n",
    "from sklearn.decomposition import PCA as sklearnPCA\n",
    "\n",
    "sklearn_pca = sklearnPCA(n_components=2)\n",
    "X_pca = sklearn_pca.fit_transform(X)\n",
    "\n",
    "def plot_pca():\n",
    "\n",
    "    ax = plt.subplot(111)\n",
    "    \n",
    "    for label,marker,color in zip(\n",
    "        range(1,6),('^', 's', 'o','*','p'),('blue','red','green','black','orange')):\n",
    "\n",
    "        plt.scatter(x=X_pca[:,0][y == label],\n",
    "                y=X_pca[:,1][y == label],\n",
    "                marker=marker,\n",
    "                color=color,\n",
    "                alpha=0.5,\n",
    "                label=label_dict[label]\n",
    "                )\n",
    "\n",
    "    plt.xlabel('PC1')\n",
    "    plt.ylabel('PC2')\n",
    "\n",
    "    leg = plt.legend(loc='upper right', fancybox=True)\n",
    "    leg.get_frame().set_alpha(0.5)\n",
    "    plt.title('PCA: projection onto the first 2 principal components')\n",
    "\n",
    "    # hide axis ticks\n",
    "    plt.tick_params(axis=\"both\", which=\"both\", bottom=\"off\", top=\"off\",  \n",
    "            labelbottom=\"on\", left=\"off\", right=\"off\", labelleft=\"on\")\n",
    "\n",
    "    # remove axis spines\n",
    "    ax.spines[\"top\"].set_visible(False)  \n",
    "    ax.spines[\"right\"].set_visible(False) \n",
    "    ax.spines[\"bottom\"].set_visible(False) \n",
    "    ax.spines[\"left\"].set_visible(False)    \n",
    "    \n",
    "    plt.tight_layout\n",
    "    plt.grid()\n",
    "    \n",
    "    plt.show()"
   ]
  },
  {
   "cell_type": "code",
   "execution_count": 321,
   "metadata": {},
   "outputs": [
    {
     "data": {
      "image/png": "[encoded data removed]",
      "text/plain": [
       "<Figure size 432x288 with 1 Axes>"
      ]
     },
     "metadata": {
      "needs_background": "light"
     },
     "output_type": "display_data"
    },
    {
     "data": {
      "image/png": "[encoded data removed]",
      "text/plain": [
       "<Figure size 432x288 with 1 Axes>"
      ]
     },
     "metadata": {
      "needs_background": "light"
     },
     "output_type": "display_data"
    }
   ],
   "source": [
    "plot_pca()\n",
    "plot_step_lda()"
   ]
  },
  {
   "cell_type": "code",
   "execution_count": 179,
   "metadata": {},
   "outputs": [],
   "source": [
    "# Created by Naresh Kumar Devulapally and Sriram Rangarajan"
   ]
  },
  {
   "cell_type": "code",
   "execution_count": null,
   "metadata": {},
   "outputs": [],
   "source": []
  }
 ],
 "metadata": {
  "colab": {
   "provenance": []
  },
  "kernelspec": {
   "display_name": "Python 3 (ipykernel)",
   "language": "python",
   "name": "python3"
  },
  "language_info": {
   "codemirror_mode": {
    "name": "ipython",
    "version": 3
   },
   "file_extension": ".py",
   "mimetype": "text/x-python",
   "name": "python",
   "nbconvert_exporter": "python",
   "pygments_lexer": "ipython3",
   "version": "3.9.12"
  }
 },
 "nbformat": 4,
 "nbformat_minor": 1
}
