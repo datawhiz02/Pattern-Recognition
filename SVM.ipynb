{
 "cells": [
  {
   "cell_type": "markdown",
   "id": "2a9813d1",
   "metadata": {
    "id": "2a9813d1"
   },
   "source": [
    "# Assignment-4 (Perceptron, SVM, and Neural Networks)"
   ]
  },
  {
   "cell_type": "markdown",
   "id": "7d13c8e6",
   "metadata": {
    "id": "7d13c8e6"
   },
   "source": [
    "This part of the assignment shall require you to code the perceptron classifier from the ground up. The perceptron classifier takes uses the weighted sum of input features, uses a threshold to classify between two classes. Usually these classes are -1 and 1 while the threshold is 0"
   ]
  },
  {
   "cell_type": "code",
   "execution_count": 238,
   "id": "45f0421a",
   "metadata": {
    "id": "45f0421a"
   },
   "outputs": [],
   "source": [
    "# imports\n",
    "import pandas as pd\n",
    "import numpy as np\n",
    "import math\n",
    "from sklearn.preprocessing import StandardScaler\n",
    "import matplotlib.pyplot as plt\n",
    "\n",
    "%matplotlib inline"
   ]
  },
  {
   "cell_type": "code",
   "execution_count": 239,
   "id": "de03069f",
   "metadata": {},
   "outputs": [
    {
     "data": {
      "text/plain": [
       "2"
      ]
     },
     "execution_count": 239,
     "metadata": {},
     "output_type": "execute_result"
    }
   ],
   "source": [
    " (50464513 + 1) % 4 "
   ]
  },
  {
   "cell_type": "markdown",
   "id": "JmMLz83F5rja",
   "metadata": {
    "id": "JmMLz83F5rja"
   },
   "source": [
    "# 1. Prepare the dataset"
   ]
  },
  {
   "cell_type": "code",
   "execution_count": 240,
   "id": "2IBreuJnmsvB",
   "metadata": {
    "id": "2IBreuJnmsvB"
   },
   "outputs": [],
   "source": [
    "# import the assigned dataset\n",
    "df = pd.read_csv('automobile.csv')"
   ]
  },
  {
   "cell_type": "code",
   "execution_count": 241,
   "id": "72f129d4",
   "metadata": {},
   "outputs": [
    {
     "data": {
      "text/plain": [
       "Unnamed: 0             0\n",
       "length                 0\n",
       "width                  0\n",
       "height                 0\n",
       "horsepower             0\n",
       "engine-location        0\n",
       "curb-weight            0\n",
       "engine-size            0\n",
       "peak-rpm               0\n",
       "targets(body-style)    0\n",
       "dtype: int64"
      ]
     },
     "execution_count": 241,
     "metadata": {},
     "output_type": "execute_result"
    }
   ],
   "source": [
    "df.isnull().sum()"
   ]
  },
  {
   "cell_type": "code",
   "execution_count": 242,
   "id": "7cb9328b",
   "metadata": {},
   "outputs": [
    {
     "data": {
      "text/plain": [
       "front    202\n",
       "rear       3\n",
       "Name: engine-location, dtype: int64"
      ]
     },
     "execution_count": 242,
     "metadata": {},
     "output_type": "execute_result"
    }
   ],
   "source": [
    "df[\"engine-location\"].value_counts()"
   ]
  },
  {
   "cell_type": "code",
   "execution_count": 243,
   "id": "59f91ad8",
   "metadata": {},
   "outputs": [
    {
     "name": "stdout",
     "output_type": "stream",
     "text": [
      "<class 'pandas.core.frame.DataFrame'>\n",
      "RangeIndex: 205 entries, 0 to 204\n",
      "Data columns (total 10 columns):\n",
      " #   Column               Non-Null Count  Dtype  \n",
      "---  ------               --------------  -----  \n",
      " 0   Unnamed: 0           205 non-null    int64  \n",
      " 1   length               205 non-null    float64\n",
      " 2   width                205 non-null    float64\n",
      " 3   height               205 non-null    float64\n",
      " 4   horsepower           205 non-null    object \n",
      " 5   engine-location      205 non-null    object \n",
      " 6   curb-weight          205 non-null    int64  \n",
      " 7   engine-size          205 non-null    int64  \n",
      " 8   peak-rpm             205 non-null    object \n",
      " 9   targets(body-style)  205 non-null    object \n",
      "dtypes: float64(3), int64(3), object(4)\n",
      "memory usage: 16.1+ KB\n"
     ]
    }
   ],
   "source": [
    "df.info()"
   ]
  },
  {
   "cell_type": "code",
   "execution_count": 244,
   "id": "D6LXkVd1mtJh",
   "metadata": {
    "id": "D6LXkVd1mtJh"
   },
   "outputs": [
    {
     "name": "stderr",
     "output_type": "stream",
     "text": [
      "C:\\Users\\pavan\\AppData\\Local\\Temp\\ipykernel_16328\\319881631.py:14: SettingWithCopyWarning: \n",
      "A value is trying to be set on a copy of a slice from a DataFrame.\n",
      "Try using .loc[row_indexer,col_indexer] = value instead\n",
      "\n",
      "See the caveats in the documentation: https://pandas.pydata.org/pandas-docs/stable/user_guide/indexing.html#returning-a-view-versus-a-copy\n",
      "  predictors_df1.loc[:,\"horsepower\"] = predictors_df1.loc[:,\"horsepower\"].astype(\"float\")\n",
      "C:\\Users\\pavan\\AppData\\Local\\Temp\\ipykernel_16328\\319881631.py:15: SettingWithCopyWarning: \n",
      "A value is trying to be set on a copy of a slice from a DataFrame.\n",
      "Try using .loc[row_indexer,col_indexer] = value instead\n",
      "\n",
      "See the caveats in the documentation: https://pandas.pydata.org/pandas-docs/stable/user_guide/indexing.html#returning-a-view-versus-a-copy\n",
      "  predictors_df1.loc[:,\"peak-rpm\"] = predictors_df1.loc[:,\"peak-rpm\"].astype(\"float\")\n"
     ]
    }
   ],
   "source": [
    "# Preprocess the dataset\n",
    "# Keeping the data ready to remove rows with '?' so all the columns will have equal number of rows.\n",
    "df1 = df[['length', 'width', 'height', 'horsepower','engine-location','curb-weight','engine-size','peak-rpm', 'targets(body-style)']]\n",
    "df1 = df1.loc[~df1.apply(lambda row : any('?' in str(cell) for cell in row) ,axis=1)]\n",
    "\n",
    "encode = {'targets(body-style)': {'sedan' : 1, 'hatchback': 2 , 'wagon': 3, 'hardtop': 4, 'convertible': 5}}\n",
    "df1 = df1.replace(encode)\n",
    "\n",
    "# Dividing into predictors and response variables.\n",
    "predictors_df1 = df1[['length', 'width', 'height', 'horsepower','engine-location','curb-weight','engine-size','peak-rpm']]\n",
    "response_df = df1['targets(body-style)']\n",
    "\n",
    "#Converting all features for test to same datatype\n",
    "predictors_df1.loc[:,\"horsepower\"] = predictors_df1.loc[:,\"horsepower\"].astype(\"float\")\n",
    "predictors_df1.loc[:,\"peak-rpm\"] = predictors_df1.loc[:,\"peak-rpm\"].astype(\"float\")"
   ]
  },
  {
   "cell_type": "code",
   "execution_count": 245,
   "id": "23edff9e",
   "metadata": {},
   "outputs": [
    {
     "name": "stdout",
     "output_type": "stream",
     "text": [
      "<class 'pandas.core.frame.DataFrame'>\n",
      "Int64Index: 203 entries, 0 to 204\n",
      "Data columns (total 8 columns):\n",
      " #   Column           Non-Null Count  Dtype  \n",
      "---  ------           --------------  -----  \n",
      " 0   length           203 non-null    float64\n",
      " 1   width            203 non-null    float64\n",
      " 2   height           203 non-null    float64\n",
      " 3   horsepower       203 non-null    float64\n",
      " 4   engine-location  203 non-null    object \n",
      " 5   curb-weight      203 non-null    int64  \n",
      " 6   engine-size      203 non-null    int64  \n",
      " 7   peak-rpm         203 non-null    float64\n",
      "dtypes: float64(5), int64(2), object(1)\n",
      "memory usage: 14.3+ KB\n"
     ]
    }
   ],
   "source": [
    "predictors_df1.info()"
   ]
  },
  {
   "cell_type": "code",
   "execution_count": 249,
   "id": "LIwB8dmYq9iH",
   "metadata": {
    "id": "LIwB8dmYq9iH"
   },
   "outputs": [],
   "source": [
    "# Make a train-test split with 80% to training and 20% to testing.\n",
    "from sklearn.model_selection import train_test_split\n",
    "X_train, X_test, y_train, y_test = train_test_split(predictors_df1, response_df, stratify=response_df, test_size= 0.2 )"
   ]
  },
  {
   "cell_type": "code",
   "execution_count": 250,
   "id": "b7739ddd",
   "metadata": {},
   "outputs": [
    {
     "data": {
      "text/plain": [
       "front    160\n",
       "rear       2\n",
       "Name: engine-location, dtype: int64"
      ]
     },
     "execution_count": 250,
     "metadata": {},
     "output_type": "execute_result"
    }
   ],
   "source": [
    "X_train[\"engine-location\"].value_counts()"
   ]
  },
  {
   "cell_type": "markdown",
   "id": "52472f78",
   "metadata": {},
   "source": [
    "### NOTE : Need to run again from \"Make train-test split with 80% to training and 20% to testing\" if rear value is not 1. Since mismatch will cause later steps to fail"
   ]
  },
  {
   "cell_type": "code",
   "execution_count": 251,
   "id": "79baf1f4",
   "metadata": {},
   "outputs": [
    {
     "data": {
      "text/plain": [
       "front    40\n",
       "rear      1\n",
       "Name: engine-location, dtype: int64"
      ]
     },
     "execution_count": 251,
     "metadata": {},
     "output_type": "execute_result"
    }
   ],
   "source": [
    "\n",
    "X_test[\"engine-location\"].value_counts()"
   ]
  },
  {
   "cell_type": "code",
   "execution_count": 252,
   "id": "7d8ca793",
   "metadata": {},
   "outputs": [
    {
     "data": {
      "text/plain": [
       "1    96\n",
       "2    69\n",
       "3    24\n",
       "4     8\n",
       "5     6\n",
       "Name: targets(body-style), dtype: int64"
      ]
     },
     "execution_count": 252,
     "metadata": {},
     "output_type": "execute_result"
    }
   ],
   "source": [
    "response_df.value_counts()"
   ]
  },
  {
   "cell_type": "code",
   "execution_count": 253,
   "id": "2g0SCXkcmtML",
   "metadata": {
    "id": "2g0SCXkcmtML"
   },
   "outputs": [],
   "source": [
    "# Normalize numerical features and encode the categorical features (if any)\n",
    "from sklearn.preprocessing import OneHotEncoder\n",
    "\n",
    "\n",
    "\n",
    "ohe = OneHotEncoder(handle_unknown='ignore', sparse = False)\n",
    "obj = X_train.select_dtypes('object')\n",
    "enc = pd.DataFrame(ohe.fit_transform(obj), columns=['engine-location_front', 'engine-location_rear'])\n",
    "enc.index = X_train.index\n",
    "X_train_enc = pd.concat([X_train.select_dtypes(exclude = 'object'),\n",
    "                         enc], axis = 1)\n",
    "\n",
    "ohe = OneHotEncoder(handle_unknown='ignore', sparse = False)\n",
    "obj = X_test.select_dtypes('object')\n",
    "enc = pd.DataFrame(ohe.fit_transform(obj), columns=['engine-location_front', 'engine-location_rear'])\n",
    "enc.index = X_test.index\n",
    "X_test_enc = pd.concat([X_test.select_dtypes(exclude = 'object'),\n",
    "                         enc], axis = 1)\n",
    "\n",
    "\n",
    "\n",
    "\n"
   ]
  },
  {
   "cell_type": "code",
   "execution_count": 254,
   "id": "e86f7ed1",
   "metadata": {},
   "outputs": [],
   "source": [
    "X_train_norm = StandardScaler().fit_transform(X_train_enc)\n",
    "X_test_norm = StandardScaler().fit_transform(X_test_enc)"
   ]
  },
  {
   "cell_type": "markdown",
   "id": "936fab42",
   "metadata": {
    "id": "936fab42"
   },
   "source": [
    "As this is a classification problem, the target variables must be categorical. Using the feature and target variable information, preprocess the dataset to use given features.\n",
    "\n",
    "This step might require students to scale the features, one-hot encode categorical FEATURES (if any).\n",
    "\n",
    "\n",
    "\n",
    "For feature scaling and one-hot encoding, go through:\n",
    "\n",
    "https://scikit-learn.org/stable/modules/generated/sklearn.preprocessing.StandardScaler.html\n",
    "https://scikit-learn.org/stable/modules/generated/sklearn.preprocessing.OneHotEncoder.html"
   ]
  },
  {
   "cell_type": "markdown",
   "id": "a204d3db",
   "metadata": {
    "id": "a204d3db"
   },
   "source": [
    "# 2: Creating a perceptron model for the processed dataset"
   ]
  },
  {
   "cell_type": "markdown",
   "id": "b0014b24",
   "metadata": {
    "id": "b0014b24"
   },
   "source": [
    "The perceptron.py file in the resources provides functions to code the perceptron model from scratch.\n",
    "\n",
    "Using the file as reference, write the functions:\n",
    "\n",
    "1. cross_validation_split\n",
    "2. accuracy_metric\n",
    "3. evaluate_algorithm\n",
    "4. predict\n",
    "5. train_weights\n",
    "6. perceptron\n",
    "\n",
    "This step is aimed at providing a comprehensive understanding of the internal functioning of a perceptron model."
   ]
  },
  {
   "cell_type": "code",
   "execution_count": 255,
   "id": "b7429d7c",
   "metadata": {
    "id": "b7429d7c"
   },
   "outputs": [],
   "source": [
    "# your code for step 2\n",
    "from random import seed\n",
    "from random import randrange\n",
    "# Split a dataset into k folds\n",
    "def cross_validation_split(dataset, n_folds):\n",
    "\tdataset_split = list()\n",
    "\tdataset_copy = list(dataset)\n",
    "\tfold_size = int(len(dataset) / n_folds)\n",
    "\tfor i in range(n_folds):\n",
    "\t\tfold = list()\n",
    "\t\twhile len(fold) < fold_size:\n",
    "\t\t\tindex = randrange(len(dataset_copy))\n",
    "\t\t\tfold.append(dataset_copy.pop(index))\n",
    "\t\tdataset_split.append(fold)\n",
    "\treturn dataset_split\n",
    "\n",
    "# Calculate accuracy percentage\n",
    "def accuracy_metric(actual, predicted):\n",
    "\tcorrect = 0\n",
    "\tfor i in range(len(actual)):\n",
    "\t\tif actual[i] == predicted[i]:\n",
    "\t\t\tcorrect += 1\n",
    "\treturn correct / float(len(actual)) * 100.0\n",
    "\n",
    "# Evaluate an algorithm using a cross validation split\n",
    "def evaluate_algorithm(dataset, algorithm, n_folds, *args):\n",
    "\tfolds = cross_validation_split(dataset, n_folds)\n",
    "\tscores = list()\n",
    "\tfor fold in folds:\n",
    "\t\ttrain_set = list(folds)\n",
    "\t\ttrain_set.remove(fold)\n",
    "\t\ttrain_set = sum(train_set, [])\n",
    "\t\ttest_set = list()\n",
    "\t\tfor row in fold:\n",
    "\t\t\trow_copy = list(row)\n",
    "\t\t\ttest_set.append(row_copy)\n",
    "\t\t\trow_copy[-1] = None\n",
    "\t\tpredicted = algorithm(train_set, test_set, *args)\n",
    "\t\tactual = [row[-1] for row in fold]\n",
    "\t\taccuracy = accuracy_metric(actual, predicted)\n",
    "\t\tscores.append(accuracy)\n",
    "\treturn scores\n",
    "\n",
    "# Make a prediction with weights\n",
    "def predict(row, weights):\n",
    "\tactivation = weights[0]\n",
    "\tfor i in range(len(row)-1):\n",
    "\t\tactivation += weights[i + 1] * row[i]\n",
    "\treturn 1.0 if activation >= 0.0 else 0.0\n",
    "\n",
    "# Estimate Perceptron weights using stochastic gradient descent\n",
    "def train_weights(train, l_rate, n_epoch):\n",
    "\tweights = [0.0 for i in range(len(train[0]))]\n",
    "\tfor epoch in range(n_epoch):\n",
    "\t\tfor row in train:\n",
    "\t\t\tprediction = predict(row, weights)\n",
    "\t\t\terror = row[-1] - prediction\n",
    "\t\t\tweights[0] = weights[0] + l_rate * error\n",
    "\t\t\tfor i in range(len(row)-1):\n",
    "\t\t\t\tweights[i + 1] = weights[i + 1] + l_rate * error * row[i]\n",
    "\treturn weights\n",
    "\n",
    "# Perceptron Algorithm With Stochastic Gradient Descent\n",
    "def perceptron(train, test, l_rate, n_epoch):\n",
    "\tpredictions = list()\n",
    "\tweights = train_weights(train, l_rate, n_epoch)\n",
    "\tfor row in test:\n",
    "\t\tprediction = predict(row, weights)\n",
    "\t\tpredictions.append(prediction)\n",
    "\treturn(predictions)"
   ]
  },
  {
   "cell_type": "code",
   "execution_count": 256,
   "id": "bc951834",
   "metadata": {},
   "outputs": [],
   "source": [
    "dataset = np.column_stack([X_train_norm, y_train])\n",
    "dataset = dataset.tolist()"
   ]
  },
  {
   "cell_type": "code",
   "execution_count": 257,
   "id": "808989bc",
   "metadata": {
    "id": "808989bc"
   },
   "outputs": [
    {
     "name": "stdout",
     "output_type": "stream",
     "text": [
      "Scores: [42.592592592592595, 51.85185185185185, 48.148148148148145]\n",
      "Mean Accuracy: 47.531%\n"
     ]
    }
   ],
   "source": [
    "# your code for step 2\n",
    "seed(1)\n",
    "n_folds = 3\n",
    "l_rate = 0.01\n",
    "n_epoch = 500\n",
    "scores = evaluate_algorithm(dataset, perceptron, n_folds, l_rate, n_epoch)\n",
    "print('Scores: %s' % scores)\n",
    "print('Mean Accuracy: %.3f%%' % (sum(scores)/float(len(scores))))"
   ]
  },
  {
   "cell_type": "markdown",
   "id": "5eb75836",
   "metadata": {
    "id": "5eb75836"
   },
   "source": [
    "# (Bonus) Perceptron model with relaxation"
   ]
  },
  {
   "cell_type": "markdown",
   "id": "751fbd6a",
   "metadata": {
    "id": "751fbd6a"
   },
   "source": [
    "Using Relaxation (the descent theorem), compare the performance of perceptron model with and without relaxation (refer class lectures, slides for details on relaxation).\n",
    "\n",
    "Make modifications to the loss function in the perceptron model."
   ]
  },
  {
   "cell_type": "code",
   "execution_count": 258,
   "id": "951a9657",
   "metadata": {
    "id": "951a9657"
   },
   "outputs": [],
   "source": [
    "# code for relaxation for the perceptron model"
   ]
  },
  {
   "cell_type": "markdown",
   "id": "95b79cbb",
   "metadata": {
    "id": "95b79cbb"
   },
   "source": [
    "# 3: Batch size for perceptron model"
   ]
  },
  {
   "cell_type": "markdown",
   "id": "6d27d5b9",
   "metadata": {
    "id": "6d27d5b9"
   },
   "source": [
    "Experiment with different batch sizes in the perceptron model (eg: 1, 4, 8).\n",
    "\n",
    "Report (with figures) the difference in performance when using different batch sizes. Inferences without plots might not be awarded points.\n",
    "\n",
    "Report the accuracies for various combinations of batch sizes."
   ]
  },
  {
   "cell_type": "code",
   "execution_count": 259,
   "id": "65f8b124",
   "metadata": {
    "id": "65f8b124"
   },
   "outputs": [
    {
     "name": "stdout",
     "output_type": "stream",
     "text": [
      "Scores: [40.625, 50.0, 43.75, 53.125, 46.875]\n",
      "Mean Accuracy: 46.875%\n"
     ]
    }
   ],
   "source": [
    "# code for step 3\n",
    "seed(1)\n",
    "n_folds = 5\n",
    "l_rate = 0.01\n",
    "n_epoch = 500\n",
    "scores = evaluate_algorithm(dataset, perceptron, n_folds, l_rate, n_epoch)\n",
    "print('Scores: %s' % scores)\n",
    "print('Mean Accuracy: %.3f%%' % (sum(scores)/float(len(scores))))"
   ]
  },
  {
   "cell_type": "code",
   "execution_count": 260,
   "id": "6572ca2f",
   "metadata": {
    "id": "6572ca2f"
   },
   "outputs": [
    {
     "name": "stdout",
     "output_type": "stream",
     "text": [
      "Scores: [52.17391304347826, 34.78260869565217, 47.82608695652174, 43.47826086956522, 60.86956521739131, 34.78260869565217, 56.52173913043478]\n",
      "Mean Accuracy: 47.205%\n"
     ]
    }
   ],
   "source": [
    "# code for step 3\n",
    "seed(1)\n",
    "n_folds = 7\n",
    "l_rate = 0.01\n",
    "n_epoch = 500\n",
    "scores = evaluate_algorithm(dataset, perceptron, n_folds, l_rate, n_epoch)\n",
    "print('Scores: %s' % scores)\n",
    "print('Mean Accuracy: %.3f%%' % (sum(scores)/float(len(scores))))"
   ]
  },
  {
   "cell_type": "code",
   "execution_count": 261,
   "id": "VBCOjJts5QvA",
   "metadata": {
    "id": "VBCOjJts5QvA"
   },
   "outputs": [
    {
     "name": "stdout",
     "output_type": "stream",
     "text": [
      "Scores: [55.55555555555556, 27.77777777777778, 44.44444444444444, 50.0, 50.0, 55.55555555555556, 44.44444444444444, 33.33333333333333, 66.66666666666666]\n",
      "Mean Accuracy: 47.531%\n"
     ]
    }
   ],
   "source": [
    "# code for step 3\n",
    "seed(1)\n",
    "n_folds = 9\n",
    "l_rate = 0.01\n",
    "n_epoch = 500\n",
    "scores = evaluate_algorithm(dataset, perceptron, n_folds, l_rate, n_epoch)\n",
    "print('Scores: %s' % scores)\n",
    "print('Mean Accuracy: %.3f%%' % (sum(scores)/float(len(scores))))"
   ]
  },
  {
   "cell_type": "code",
   "execution_count": 262,
   "id": "f48afbc1",
   "metadata": {},
   "outputs": [
    {
     "data": {
      "image/png": "[encoded data removed]",
      "text/plain": [
       "<Figure size 432x288 with 1 Axes>"
      ]
     },
     "metadata": {
      "needs_background": "light"
     },
     "output_type": "display_data"
    }
   ],
   "source": [
    "accuracy = {'Batch_5':47.500, 'Batch_7':47.826, 'Batch_9':47.531}\n",
    "Batches = list(accuracy.keys())\n",
    "Accuracy = list(accuracy.values())\n",
    "plt.xlabel(\"Example of Batches\")                                    \n",
    "plt.ylabel(\"Mean Accuracy\") \n",
    "plt.title(\"Accuracies for various combinations of batch sizes\")\n",
    "plt.scatter(Batches, Accuracy, color ='green')                                  \n",
    "plt.show()\n",
    " "
   ]
  },
  {
   "cell_type": "markdown",
   "id": "wSYUKCg8neAH",
   "metadata": {
    "id": "wSYUKCg8neAH"
   },
   "source": [
    "# 4. SVM's\n",
    "\n",
    "### **Note : You are allowed to use sklearn's SVC classifier for steps 4.1 through 4.3**\n",
    "\n",
    "https://scikit-learn.org/stable/modules/generated/sklearn.svm.SVC.html\n",
    "\n",
    "---"
   ]
  },
  {
   "cell_type": "markdown",
   "id": "dESPXbsWuF26",
   "metadata": {
    "id": "dESPXbsWuF26"
   },
   "source": [
    "# 4.1 Linear SVM\n",
    "\n",
    "\n",
    "---\n",
    "\n",
    "\n",
    "# Step 1: Implement a linear SVM model to classify the data points. (Look into the 'kernel' parameter)."
   ]
  },
  {
   "cell_type": "code",
   "execution_count": 263,
   "id": "GPZt7zZCmtPK",
   "metadata": {
    "id": "GPZt7zZCmtPK"
   },
   "outputs": [],
   "source": [
    "# linear SVM\n",
    "from sklearn.svm import SVC\n",
    "\n",
    "svm_clf = SVC(kernel= \"linear\")\n"
   ]
  },
  {
   "cell_type": "markdown",
   "id": "wDG07yCYt1B0",
   "metadata": {
    "id": "wDG07yCYt1B0"
   },
   "source": [
    "# Step 2: Train the model"
   ]
  },
  {
   "cell_type": "code",
   "execution_count": 264,
   "id": "xRGroMUFt1J5",
   "metadata": {
    "id": "xRGroMUFt1J5"
   },
   "outputs": [
    {
     "data": {
      "text/plain": [
       "SVC(kernel='linear')"
      ]
     },
     "execution_count": 264,
     "metadata": {},
     "output_type": "execute_result"
    }
   ],
   "source": [
    "# training - linear SVM\n",
    "svm_clf.fit(X_train_norm, y_train)"
   ]
  },
  {
   "cell_type": "markdown",
   "id": "c2aXe9XNrkDM",
   "metadata": {
    "id": "c2aXe9XNrkDM"
   },
   "source": [
    "# Step 3: Predict for the test points using the model trained in the previous step"
   ]
  },
  {
   "cell_type": "code",
   "execution_count": 265,
   "id": "18yLtskurkMR",
   "metadata": {
    "id": "18yLtskurkMR"
   },
   "outputs": [
    {
     "data": {
      "text/plain": [
       "array([1, 1, 2, 1, 1, 2, 1, 2, 1, 1, 1, 2, 1, 2, 1, 1, 1, 1, 2, 2, 5, 2,\n",
       "       1, 1, 2, 1, 1, 1, 2, 2, 2, 1, 1, 2, 3, 1, 2, 1, 1, 2, 1],\n",
       "      dtype=int64)"
      ]
     },
     "execution_count": 265,
     "metadata": {},
     "output_type": "execute_result"
    }
   ],
   "source": [
    "# predict - linear SVM\n",
    "y_pred_lin = svm_clf.predict(X_test_norm)\n",
    "y_pred_lin"
   ]
  },
  {
   "cell_type": "code",
   "execution_count": 266,
   "id": "350f28fa",
   "metadata": {},
   "outputs": [],
   "source": [
    "#svm_clf.score(X_test_norm, y_test)"
   ]
  },
  {
   "cell_type": "markdown",
   "id": "RoR12SgBpzja",
   "metadata": {
    "id": "RoR12SgBpzja"
   },
   "source": [
    "# 4.2 Kernel SVM - Polynomial kernel\n",
    "\n",
    "---\n",
    "\n",
    "\n",
    "\n",
    "# Step 1: Implement a kernel SVM model with a polynomial kernel to classify the data points."
   ]
  },
  {
   "cell_type": "code",
   "execution_count": 267,
   "id": "lyDOfuYXp7dG",
   "metadata": {
    "id": "lyDOfuYXp7dG"
   },
   "outputs": [],
   "source": [
    "# kernel SVM - polynomial kernel\n",
    "svm_poly = SVC(kernel='poly', degree = 3, C = 1)"
   ]
  },
  {
   "cell_type": "markdown",
   "id": "GpP79PDauc2p",
   "metadata": {
    "id": "GpP79PDauc2p"
   },
   "source": [
    "# Step 2: Train the model"
   ]
  },
  {
   "cell_type": "code",
   "execution_count": 268,
   "id": "uS6lHWUhuc_X",
   "metadata": {
    "id": "uS6lHWUhuc_X"
   },
   "outputs": [
    {
     "data": {
      "text/plain": [
       "SVC(C=1, kernel='poly')"
      ]
     },
     "execution_count": 268,
     "metadata": {},
     "output_type": "execute_result"
    }
   ],
   "source": [
    "# training - kernel SVM\n",
    "svm_poly.fit(X_train_norm, y_train)"
   ]
  },
  {
   "cell_type": "markdown",
   "id": "5eGEDVYRr7hz",
   "metadata": {
    "id": "5eGEDVYRr7hz"
   },
   "source": [
    "# Step 3: Predict for the test points using the model trained in the previous step"
   ]
  },
  {
   "cell_type": "code",
   "execution_count": 269,
   "id": "c2CS_FKsr7pF",
   "metadata": {
    "id": "c2CS_FKsr7pF"
   },
   "outputs": [],
   "source": [
    "# predict - kernel SVM\n",
    "y_pred_poly = svm_poly.predict(X_test_norm)"
   ]
  },
  {
   "cell_type": "markdown",
   "id": "BsKcw44Vp7sd",
   "metadata": {
    "id": "BsKcw44Vp7sd"
   },
   "source": [
    "# 4.3 Kernel SVM - Gaussian kernel\n",
    "\n",
    "---\n",
    "\n",
    "\n",
    "\n",
    "# Step 1: Implement a kernel SVM model with a gaussian (Radian Basis function) kernel to classify the data points."
   ]
  },
  {
   "cell_type": "code",
   "execution_count": 270,
   "id": "4nLNaT5SqR58",
   "metadata": {
    "id": "4nLNaT5SqR58"
   },
   "outputs": [],
   "source": [
    "# kernel SVM - gaussian kernel\n",
    "svm_rbf = SVC(kernel='rbf', degree=3, C = 1)"
   ]
  },
  {
   "cell_type": "markdown",
   "id": "QO82alm_unrk",
   "metadata": {
    "id": "QO82alm_unrk"
   },
   "source": [
    "# Step 2: Train the model"
   ]
  },
  {
   "cell_type": "code",
   "execution_count": 271,
   "id": "XRlivJbkunys",
   "metadata": {
    "id": "XRlivJbkunys"
   },
   "outputs": [
    {
     "data": {
      "text/plain": [
       "SVC(C=1)"
      ]
     },
     "execution_count": 271,
     "metadata": {},
     "output_type": "execute_result"
    }
   ],
   "source": [
    "# training - kernel SVM\n",
    "svm_rbf.fit(X_train_norm, y_train)"
   ]
  },
  {
   "cell_type": "markdown",
   "id": "YCEodCuXr_oi",
   "metadata": {
    "id": "YCEodCuXr_oi"
   },
   "source": [
    "# Step 3: Predict for the test points using the model trained in the previous step"
   ]
  },
  {
   "cell_type": "code",
   "execution_count": 272,
   "id": "euFQqnXrr_vz",
   "metadata": {
    "id": "euFQqnXrr_vz"
   },
   "outputs": [],
   "source": [
    "# predict - kernel SVM\n",
    "y_pred_rbf = svm_rbf.predict(X_test_norm)"
   ]
  },
  {
   "cell_type": "markdown",
   "id": "D4rej5nCsE3e",
   "metadata": {
    "id": "D4rej5nCsE3e"
   },
   "source": [
    "# 4.4 - Evaluation\n",
    "\n",
    "\n",
    "---\n",
    "\n",
    "\n",
    "# Take the results from each predict step under sections 4.1, 4.2 and 4.3. Consider accuracy as the evaulation metric. Print the accuracies for each of the 3 SVM models.\n",
    "\n",
    "Note: Do not use functions from sklearn.metrics"
   ]
  },
  {
   "cell_type": "code",
   "execution_count": 273,
   "id": "huEssd0Cs4Su",
   "metadata": {
    "id": "huEssd0Cs4Su"
   },
   "outputs": [
    {
     "data": {
      "text/plain": [
       "0.6829268292682927"
      ]
     },
     "execution_count": 273,
     "metadata": {},
     "output_type": "execute_result"
    }
   ],
   "source": [
    "svm_clf.score(X_test_norm, y_test)"
   ]
  },
  {
   "cell_type": "code",
   "execution_count": 274,
   "id": "9a7152d1",
   "metadata": {},
   "outputs": [
    {
     "data": {
      "text/plain": [
       "0.6341463414634146"
      ]
     },
     "execution_count": 274,
     "metadata": {},
     "output_type": "execute_result"
    }
   ],
   "source": [
    "svm_poly.score(X_test_norm, y_test)"
   ]
  },
  {
   "cell_type": "code",
   "execution_count": 275,
   "id": "741e8dc1",
   "metadata": {},
   "outputs": [
    {
     "data": {
      "text/plain": [
       "0.7317073170731707"
      ]
     },
     "execution_count": 275,
     "metadata": {},
     "output_type": "execute_result"
    }
   ],
   "source": [
    "svm_rbf.score(X_test_norm, y_test)"
   ]
  },
  {
   "cell_type": "code",
   "execution_count": 276,
   "id": "Mbb7piNhvmz7",
   "metadata": {
    "id": "Mbb7piNhvmz7"
   },
   "outputs": [],
   "source": [
    "# space for any imports for the following steps\n",
    "#import tensorflow as tf\n",
    "# space for any imports for the following steps\n",
    "\n",
    "import numpy as np\n",
    "import keras\n",
    "from keras.datasets import mnist\n",
    "from keras.optimizers import SGD\n",
    "from keras.layers import Dense\n",
    "from keras.models import Sequential\n",
    "\n",
    "from keras import regularizers\n",
    "\n",
    "from keras.callbacks import LambdaCallback\n",
    "\n",
    "input_layer = 9\n",
    "middle_layer = 9\n",
    "out_layer = 1\n",
    "\n",
    "epochs = 30\n",
    "learning_rate = 0.1\n",
    "Lambda = 10\n",
    "batch_size = 10"
   ]
  },
  {
   "cell_type": "markdown",
   "id": "yspPihkdtYzW",
   "metadata": {
    "id": "yspPihkdtYzW"
   },
   "source": [
    "# 5. Neural Networks\n",
    "\n",
    "\n",
    "\n",
    "---\n",
    "\n"
   ]
  },
  {
   "cell_type": "markdown",
   "id": "DORVXa96vcl9",
   "metadata": {
    "id": "DORVXa96vcl9"
   },
   "source": [
    "# 5.1 Single layer neural network\n",
    "\n",
    "You can use either PyTorch or Tensorflow for the implementation\n",
    "\n",
    "---\n",
    "\n",
    "# Step 1: Implement a single layer neural network to classify the data points"
   ]
  },
  {
   "cell_type": "code",
   "execution_count": 277,
   "id": "Eekz2V1OvWq8",
   "metadata": {
    "id": "Eekz2V1OvWq8"
   },
   "outputs": [],
   "source": [
    "model = Sequential()\n",
    "model.add(Dense(input_layer, activation='sigmoid', input_dim = 9))\n",
    "model.add(Dense(out_layer, activation=\"softmax\"))\n",
    "sgd = SGD(learning_rate=learning_rate)"
   ]
  },
  {
   "cell_type": "code",
   "execution_count": 278,
   "id": "d387ea34",
   "metadata": {},
   "outputs": [],
   "source": [
    "model.compile(optimizer=sgd, loss='categorical_crossentropy', metrics=['accuracy'])"
   ]
  },
  {
   "cell_type": "markdown",
   "id": "9V0qytGdvYTx",
   "metadata": {
    "id": "9V0qytGdvYTx"
   },
   "source": [
    "# Step 2: Train the model"
   ]
  },
  {
   "cell_type": "code",
   "execution_count": 279,
   "id": "y6EOwJ70vYaD",
   "metadata": {
    "id": "y6EOwJ70vYaD"
   },
   "outputs": [],
   "source": [
    "layer_w = []\n",
    "weights = LambdaCallback(on_epoch_end=lambda epoch, \n",
    "                         logs: layer_w.append(model.layers[0].get_weights()))\n",
    "\n",
    "\n",
    "history = model.fit(X_train_norm, y_train, epochs=epochs,\n",
    "                    batch_size=batch_size, verbose=0, validation_split=0, \n",
    "                 callbacks=[weights])"
   ]
  },
  {
   "cell_type": "markdown",
   "id": "ozkKUCzvvY7b",
   "metadata": {
    "id": "ozkKUCzvvY7b"
   },
   "source": [
    "# Step 3: Predict for the test points using the model trained in the previous step"
   ]
  },
  {
   "cell_type": "code",
   "execution_count": 280,
   "id": "EbjD6UXgvZBs",
   "metadata": {
    "id": "EbjD6UXgvZBs"
   },
   "outputs": [],
   "source": [
    "loss_nn1, accuracy_nn1 = model.evaluate(X_test_norm, y_test, batch_size= batch_size, verbose=False)"
   ]
  },
  {
   "cell_type": "markdown",
   "id": "pT2B094yv4o_",
   "metadata": {
    "id": "pT2B094yv4o_"
   },
   "source": [
    "# 5.2 Multi - Layer neural network\n",
    "\n",
    "---\n",
    "\n",
    "# Step 1: Implement a multi - layer neural network to classify the data points\n",
    "\n",
    "Additional note: use methods to avoid overfitting appropriately"
   ]
  },
  {
   "cell_type": "code",
   "execution_count": 281,
   "id": "1-IqXvAiv48P",
   "metadata": {
    "id": "1-IqXvAiv48P"
   },
   "outputs": [],
   "source": [
    "model_2 = Sequential()\n",
    "model_2.add(Dense(input_layer, activation='sigmoid', input_dim = 9, \n",
    "                kernel_regularizer= regularizers.l2(Lambda)))\n",
    "\n",
    "model_2.add(Dense(middle_layer, activation='sigmoid',\n",
    "                kernel_regularizer= regularizers.l2(Lambda) ))\n",
    "\n",
    "model_2.add(Dense(out_layer, activation=\"softmax\"))\n",
    "sgd = SGD(learning_rate=learning_rate)"
   ]
  },
  {
   "cell_type": "markdown",
   "id": "chE47ggUv5Cj",
   "metadata": {
    "id": "chE47ggUv5Cj"
   },
   "source": [
    "# Step 2: Train the model"
   ]
  },
  {
   "cell_type": "code",
   "execution_count": 282,
   "id": "qLudrV1Mv5LK",
   "metadata": {
    "id": "qLudrV1Mv5LK"
   },
   "outputs": [],
   "source": [
    "model_2.compile(optimizer=sgd, loss='categorical_crossentropy', metrics=['accuracy'])"
   ]
  },
  {
   "cell_type": "code",
   "execution_count": 283,
   "id": "05252498",
   "metadata": {},
   "outputs": [],
   "source": [
    "layer_w = []\n",
    "weights = LambdaCallback(on_epoch_end=lambda epoch, \n",
    "                         logs: layer_w.append(model_2.layers[0].get_weights()))\n",
    "\n",
    "\n",
    "history = model_2.fit(X_train_norm, y_train, epochs=epochs,\n",
    "                    batch_size=batch_size, verbose=0, validation_split=0, \n",
    "                     callbacks=[weights])"
   ]
  },
  {
   "cell_type": "markdown",
   "id": "-bGzeSaUv5S8",
   "metadata": {
    "id": "-bGzeSaUv5S8"
   },
   "source": [
    "# Step 3: Predict for the test points using the model trained in the previous step"
   ]
  },
  {
   "cell_type": "code",
   "execution_count": 284,
   "id": "kggDlhMtv5ad",
   "metadata": {
    "id": "kggDlhMtv5ad"
   },
   "outputs": [],
   "source": [
    "loss_nn2, accuracy_nn2 = model_2.evaluate(X_test_norm, y_test, batch_size= batch_size, verbose=False)"
   ]
  },
  {
   "cell_type": "markdown",
   "id": "XT1hpdNiwLlh",
   "metadata": {
    "id": "XT1hpdNiwLlh"
   },
   "source": [
    "# 5.3 Multi - Layer neural network\n",
    "\n",
    "---\n",
    "\n",
    "# Step 1: Implement a multi - layer neural network to classify the data points\n",
    "\n",
    "**Note :** This must have a different network architecture from the model under section 5.2\n",
    "\n",
    "**Additional note:** use methods to avoid overfitting appropriately"
   ]
  },
  {
   "cell_type": "code",
   "execution_count": 285,
   "id": "ldNn2tNVwLsW",
   "metadata": {
    "id": "ldNn2tNVwLsW"
   },
   "outputs": [],
   "source": [
    "model_3 = Sequential()\n",
    "model_3.add(Dense(input_layer, activation='sigmoid', input_dim = 9, \n",
    "                kernel_regularizer= regularizers.l2(Lambda)))\n",
    "\n",
    "model_3.add(Dense(middle_layer, activation='sigmoid',\n",
    "                kernel_regularizer= regularizers.l2(Lambda) ))\n",
    "\n",
    "model_3.add(Dense(middle_layer, activation='sigmoid',\n",
    "                kernel_regularizer= regularizers.l2(Lambda) ))\n",
    "\n",
    "model_3.add(Dense(middle_layer, activation='sigmoid',\n",
    "                kernel_regularizer= regularizers.l2(Lambda) ))\n",
    "\n",
    "model_3.add(Dense(middle_layer, activation='sigmoid',\n",
    "                kernel_regularizer= regularizers.l2(Lambda) ))\n",
    "\n",
    "model_3.add(Dense(middle_layer, activation='sigmoid',\n",
    "                kernel_regularizer= regularizers.l2(Lambda) ))\n",
    "\n",
    "model_3.add(Dense(middle_layer, activation='sigmoid',\n",
    "                kernel_regularizer= regularizers.l2(Lambda) ))\n",
    "\n",
    "model_3.add(Dense(out_layer, activation=\"softmax\"))\n",
    "sgd = SGD(learning_rate=0.05)"
   ]
  },
  {
   "cell_type": "markdown",
   "id": "Ntq2avYhwNL8",
   "metadata": {
    "id": "Ntq2avYhwNL8"
   },
   "source": [
    "# Step 2: Train the model"
   ]
  },
  {
   "cell_type": "code",
   "execution_count": 286,
   "id": "hu7oU-eVwNSK",
   "metadata": {
    "id": "hu7oU-eVwNSK"
   },
   "outputs": [],
   "source": [
    "model_3.compile(optimizer=sgd, loss='categorical_crossentropy', metrics=['accuracy'])"
   ]
  },
  {
   "cell_type": "code",
   "execution_count": 287,
   "id": "6b3c6fb0",
   "metadata": {},
   "outputs": [],
   "source": [
    "layer_w = []\n",
    "weights = LambdaCallback(on_epoch_end=lambda epoch, \n",
    "                         logs: layer_w.append(model_3.layers[0].get_weights()))\n",
    "\n",
    "\n",
    "history = model_3.fit(X_train_norm, y_train, epochs=epochs,\n",
    "                    batch_size=batch_size, verbose=0, validation_split=0, \n",
    "                    callbacks=[weights])"
   ]
  },
  {
   "cell_type": "markdown",
   "id": "pZuLLFWGwNYw",
   "metadata": {
    "id": "pZuLLFWGwNYw"
   },
   "source": [
    "# Step 3: Predict for the test points using the model trained in the previous step"
   ]
  },
  {
   "cell_type": "code",
   "execution_count": 288,
   "id": "aUlxFb-mwNfg",
   "metadata": {
    "id": "aUlxFb-mwNfg"
   },
   "outputs": [],
   "source": [
    "loss_nn3, accuracy_nn3 = model_3.evaluate(X_test_norm, y_test, batch_size= batch_size, verbose=False)"
   ]
  },
  {
   "cell_type": "markdown",
   "id": "i6OBpYaWxxwG",
   "metadata": {
    "id": "i6OBpYaWxxwG"
   },
   "source": [
    "# 5.4 - Evaluation\n",
    "\n",
    "\n",
    "---\n",
    "\n",
    "\n",
    "# Take the results from each predict step under sections 5.1, 5.2 and 5.3. Consider accuracy as the evaulation metric. Print the accuracies for each of the 3 neural network architectures.\n",
    "\n",
    "Note: Do not use functions from sklearn.metrics"
   ]
  },
  {
   "cell_type": "code",
   "execution_count": 289,
   "id": "ry0jxD2Oxwq8",
   "metadata": {
    "id": "ry0jxD2Oxwq8"
   },
   "outputs": [
    {
     "name": "stdout",
     "output_type": "stream",
     "text": [
      "The accuracy of single neural network is  0.46341463923454285\n"
     ]
    }
   ],
   "source": [
    "print(\"The accuracy of single neural network is \",accuracy_nn1)"
   ]
  },
  {
   "cell_type": "code",
   "execution_count": 290,
   "id": "b3150755",
   "metadata": {},
   "outputs": [
    {
     "name": "stdout",
     "output_type": "stream",
     "text": [
      "The accuracy of multilayer neural network with two hidden layers is  0.46341463923454285\n"
     ]
    }
   ],
   "source": [
    "print(\"The accuracy of multilayer neural network with two hidden layers is \",accuracy_nn2)"
   ]
  },
  {
   "cell_type": "code",
   "execution_count": 291,
   "id": "21f00bc8",
   "metadata": {},
   "outputs": [
    {
     "name": "stdout",
     "output_type": "stream",
     "text": [
      "The accuracy of multilayer neural network with more hidden layers is  0.46341463923454285\n"
     ]
    }
   ],
   "source": [
    "print(\"The accuracy of multilayer neural network with more hidden layers is \", accuracy_nn3)"
   ]
  },
  {
   "cell_type": "markdown",
   "id": "2n2RmSlmworT",
   "metadata": {
    "id": "2n2RmSlmworT"
   },
   "source": [
    "# 6 - Paragraph questions\n",
    "\n",
    "---\n",
    "\n",
    "\n",
    "\n",
    "# Q1 : Briefly explain the methods you used to prevent overfitting for the models under section 5.2 and 5.3"
   ]
  },
  {
   "cell_type": "markdown",
   "id": "4NNoPoY2wpiA",
   "metadata": {
    "id": "4NNoPoY2wpiA"
   },
   "source": [
    "***space for Q1's answer***\n",
    "I used regulatizer to prevent overfitting."
   ]
  },
  {
   "cell_type": "markdown",
   "id": "bXgMyWtEwo4K",
   "metadata": {
    "id": "bXgMyWtEwo4K"
   },
   "source": [
    "# Q2: Compare the performances of models under sections 2, 3, 4 and 5 namely perceptron, descent procedure, SVM's and neural networks. List down few points on why you think certain models performed better than others"
   ]
  },
  {
   "cell_type": "markdown",
   "id": "m-612AuiwqWP",
   "metadata": {
    "id": "m-612AuiwqWP"
   },
   "source": [
    "***space for Q2's answer***\n",
    "For section 2 following parameters were used folds, rate and epoch. Mean Accuracy acheived was 47% and Scores: [53.70370370370371, 40.74074074074074, 48.148148148148145]\n",
    "\n",
    "For section 3 with different n_folds Scores different but mean accuracy remained almost constant.That is around 47%\n",
    "Details: \n",
    "n_folds = 5\n",
    "Scores: [50.0, 56.25, 43.75, 34.375, 53.125]\n",
    "Mean Accuracy: 47.500%\n",
    "n_folds = 7\n",
    "Scores: [43.47826086956522, 56.52173913043478, 56.52173913043478, 39.130434782608695, 39.130434782608695, 34.78260869565217, 65.21739130434783]\n",
    "Mean Accuracy: 47.826%\n",
    "n_folds = 9\n",
    "Scores: [38.88888888888889, 61.111111111111114, 61.111111111111114, 38.88888888888889, 38.88888888888889, 44.44444444444444, 38.88888888888889, 44.44444444444444, 61.111111111111114]\n",
    "Mean Accuracy: 47.531%\n",
    "\n",
    "For Section 4 SVM's\n",
    "Linear SVM has an accuracy of 68%.\n",
    "Kernel SVM - Polynomial kernel has an accuracy of 63%.\n",
    "Kernel SVM - Gaussian kernel has an accuracy of 73%.\n",
    "Kernel SVM seems to perform the best\n",
    "\n",
    "For section 5 I am getting all same accuracy even when hidden layers are added. That is 46%"
   ]
  }
 ],
 "metadata": {
  "colab": {
   "provenance": []
  },
  "kernelspec": {
   "display_name": "Python 3 (ipykernel)",
   "language": "python",
   "name": "python3"
  },
  "language_info": {
   "codemirror_mode": {
    "name": "ipython",
    "version": 3
   },
   "file_extension": ".py",
   "mimetype": "text/x-python",
   "name": "python",
   "nbconvert_exporter": "python",
   "pygments_lexer": "ipython3",
   "version": "3.9.12"
  }
 },
 "nbformat": 4,
 "nbformat_minor": 5
}
